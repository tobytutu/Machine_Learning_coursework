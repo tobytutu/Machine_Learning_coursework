{
 "cells": [
  {
   "cell_type": "markdown",
   "metadata": {},
   "source": [
    "# STA 208: Homework 4\n",
    "This is based on the material in Chapters 5,6 of 'Elements of Statistical Learning' (ESL), in addition to lectures 10-13."
   ]
  },
  {
   "cell_type": "markdown",
   "metadata": {},
   "source": [
    "## Instructions\n",
    "\n",
    "We use a script that extracts your answers by looking for cells in between the cells containing the exercise statements (beginning with __Exercise X.X__).  So you \n",
    "\n",
    "- MUST add cells in between the exercise statements and add answers within them and\n",
    "- MUST NOT modify the existing cells, particularly not the problem statement\n",
    "\n",
    "To make markdown, please switch the cell type to markdown (from code) - you can hit 'm' when you are in command mode - and use the markdown language.  For a brief tutorial see: https://daringfireball.net/projects/markdown/syntax\n",
    "\n",
    "In the conceptual exercises you should provide an explanation, with math when necessary, for any answers.  When answering with math you should use basic LaTeX, as in \n",
    "$$E(Y|X=x) = \\int_{\\mathcal{Y}} f_{Y|X}(y|x) dy = \\int_{\\mathcal{Y}} \\frac{f_{Y,X}(y,x)}{f_{X}(x)} dy$$\n",
    "for displayed equations, and $R_{i,j} = 2^{-|i-j|}$ for inline equations.  (To see the contents of this cell in markdown, double click on it or hit Enter in escape mode.)  To see a list of latex math symbols see here: http://web.ift.uib.no/Teori/KURS/WRK/TeX/symALL.html\n",
    "\n",
    "When writing pseudocode, you should use enumerated lists, such as \n",
    "\n",
    "__Algorithm: Ordinary Least Squares Fit__\n",
    "(Input: X, y; \n",
    "Output: $\\beta$)\n",
    "1. Initialize the $p \\times p$ Gram matrix, $G \\gets 0$, and the vector $b \\gets 0$.\n",
    "2. For each sample, $x_i$:\n",
    " 1. $G \\gets G + x_i x_i^\\top$.\n",
    " 2. $b \\gets b + y_i x_i$\n",
    "3. Solve the linear system $G \\beta = b$ and return $\\beta$\n"
   ]
  },
  {
   "cell_type": "markdown",
   "metadata": {},
   "source": [
    "## Transfusion dataset\n",
    "Read in the transfusion data using the code below."
   ]
  },
  {
   "cell_type": "code",
   "execution_count": 2,
   "metadata": {
    "collapsed": true
   },
   "outputs": [],
   "source": [
    "import numpy as np\n",
    "from sklearn.preprocessing import scale"
   ]
  },
  {
   "cell_type": "code",
   "execution_count": 3,
   "metadata": {
    "collapsed": false
   },
   "outputs": [],
   "source": [
    "Dtrans = np.loadtxt(\"transfusion.data\",dtype=np.str_,delimiter=\",\")\n",
    "X = np.array(Dtrans[1:,0:4],dtype=float)\n",
    "y = np.array(Dtrans[1:,4],dtype=float)\n",
    "X = scale(X)"
   ]
  },
  {
   "cell_type": "markdown",
   "metadata": {},
   "source": [
    "__Exercise 1.1__ (10 pts) Use 5-fold cross validation, leave-one-out CV, and a 50% holdout to tune the bandwidth and ridge penalty parameter for the RBF kernel for SVMs.  Qualitatively compare the results."
   ]
  },
  {
   "cell_type": "markdown",
   "metadata": {},
   "source": [
    "__Exercise 1.1__"
   ]
  },
  {
   "cell_type": "code",
   "execution_count": 4,
   "metadata": {
    "collapsed": true
   },
   "outputs": [],
   "source": [
    "import matplotlib.pyplot as plt\n",
    "\n",
    "from sklearn.svm import SVC\n",
    "from sklearn.model_selection import StratifiedShuffleSplit\n",
    "from sklearn.model_selection import GridSearchCV,LeaveOneOut,train_test_split,KFold"
   ]
  },
  {
   "cell_type": "code",
   "execution_count": 9,
   "metadata": {
    "collapsed": false
   },
   "outputs": [
    {
     "name": "stdout",
     "output_type": "stream",
     "text": [
      "{'C': 1000.0, 'gamma': 0.10000000000000001}\n",
      "0.798128342246\n"
     ]
    }
   ],
   "source": [
    "#C_range=2.** np.arange(-10, 11)\n",
    "#gamma_range=2.** np.arange(-10, 11)\n",
    "C_range=np.logspace(-3,3,7)\n",
    "gamma_range=np.logspace(-3,3,7)\n",
    "#gamma_range=np.logspace(-10,3,6)\n",
    "param_grid=dict(gamma=gamma_range,C=C_range)\n",
    "svr=SVC(kernel='rbf')\n",
    "# 5-fold cross validation\n",
    "#cv=5 \n",
    "cv1=KFold(n_splits=5,shuffle=True,random_state=23)\n",
    "clf1=GridSearchCV(svr,param_grid,cv=cv1)\n",
    "\n",
    "clf1.fit(X,y)\n",
    "print clf1.best_params_\n",
    "print clf1.best_score_\n"
   ]
  },
  {
   "cell_type": "code",
   "execution_count": 8,
   "metadata": {
    "collapsed": false
   },
   "outputs": [
    {
     "name": "stdout",
     "output_type": "stream",
     "text": [
      "{'C': 1.0, 'gamma': 1.0}\n",
      "0.794117647059\n"
     ]
    }
   ],
   "source": [
    "\n",
    "param_grid=dict(gamma=gamma_range,C=C_range)\n",
    "svr=SVC(kernel='rbf')\n",
    "# Leave-One-Out CV\n",
    "loo=LeaveOneOut() \n",
    "clf2=GridSearchCV(svr,param_grid,cv=loo)\n",
    "clf2.fit(X,y)\n",
    "print clf2.best_params_\n",
    "print clf2.best_score_"
   ]
  },
  {
   "cell_type": "code",
   "execution_count": 10,
   "metadata": {
    "collapsed": false
   },
   "outputs": [
    {
     "name": "stdout",
     "output_type": "stream",
     "text": [
      "{'C': 1000.0, 'gamma': 0.10000000000000001}\n",
      "0.781333333333\n"
     ]
    }
   ],
   "source": [
    "svr=SVC(kernel='rbf')\n",
    "# 50% hold out CV\n",
    "X_train, X_test, y_train, y_test = train_test_split(X, y, test_size=0.5, random_state=23)\n",
    "cv=StratifiedShuffleSplit(test_size=0.4,random_state=23)\n",
    "clf3=GridSearchCV(svr,param_grid,cv=cv)\n",
    "clf3.fit(X_train,y_train)\n",
    "print clf3.best_params_\n",
    "print clf3.best_score_"
   ]
  },
  {
   "cell_type": "markdown",
   "metadata": {},
   "source": [
    "It can be seen from the results above that 5-folds and 50% hold-out cross-validation can provide the same he bandwidth and ridge penalty parameter for the RBF kernel for SVM, while leave-one-out gives very different parameters. The final scores of the three methods indicate that 5-fold cross-validation gives the largest score (0.798128342246), which is slightly larger than that of leave-one-out (0.794117647059), and 50% hold-out cross-validation generates the smallest score (0.781333333333)."
   ]
  },
  {
   "cell_type": "markdown",
   "metadata": {},
   "source": [
    "__Exercise 1.2__ (10 pts) Select one of these methods for tuning the bandwidth parameters and make this a function that takes in a dataset, performs cross-validation, and outputs the tuning parameters.  Make a training and test set split and tune parameters for linear SVMs, RBF kernel SVMs, and logistic regression on the training set, then compare their performances on the test set using ROC and PR curves."
   ]
  },
  {
   "cell_type": "markdown",
   "metadata": {
    "collapsed": true
   },
   "source": [
    "__Exercise 1.2__\n",
    "\n",
    "In this problem, 5-fold cross validation is chosen."
   ]
  },
  {
   "cell_type": "code",
   "execution_count": 27,
   "metadata": {
    "collapsed": true
   },
   "outputs": [],
   "source": [
    "import sklearn.linear_model as skl_lm\n",
    "from sklearn.metrics import  precision_recall_curve, roc_curve,auc"
   ]
  },
  {
   "cell_type": "code",
   "execution_count": 28,
   "metadata": {
    "collapsed": true
   },
   "outputs": [],
   "source": [
    "# 40% fo the dataset is used for test.\n",
    "X_train, X_test, y_train, y_test = train_test_split(X, y, test_size=0.4, random_state=23)"
   ]
  },
  {
   "cell_type": "code",
   "execution_count": 29,
   "metadata": {
    "collapsed": false
   },
   "outputs": [],
   "source": [
    "# linear SVM\n",
    "svra=SVC(kernel='linear')\n",
    "cv_1=KFold(n_splits=5,shuffle=True,random_state=23)\n",
    "param_grid = dict(C=C_range)\n",
    "clf_1=GridSearchCV(svra,param_grid,cv=cv_1)\n",
    "clf_1.fit(X_train,y_train)\n",
    "C1=clf_1.best_params_['C']\n",
    "\n",
    "clf_1 = SVC(kernel = 'linear', C = C1, probability = True)\n",
    "\n",
    "y_pred_1 = clf_1.fit(X_train, y_train).predict(X_test)\n",
    "\n",
    "prob1 =clf_1.predict_proba(X_test) # save the probability for SVM\n",
    "\n",
    "y_pred1=prob1[:,1]\n",
    "\n",
    "preci1,rec1,thre1=precision_recall_curve(y_test,y_pred1) # PR curve information\n",
    "\n",
    "fpr1,tpr1,threshold1=roc_curve(y_test,y_pred1) # ROC curve information\n",
    "\n",
    "\n",
    "\n",
    "\n",
    "\n"
   ]
  },
  {
   "cell_type": "code",
   "execution_count": 31,
   "metadata": {
    "collapsed": false
   },
   "outputs": [],
   "source": [
    "# RBF SVM\n",
    "svrb=SVC(kernel='rbf')\n",
    "cv_2=KFold(n_splits=5,shuffle=True,random_state=23)\n",
    "param_grid=dict(gamma=gamma_range,C=C_range)\n",
    "clf_2=GridSearchCV(svrb,param_grid,cv=cv_2)\n",
    "\n",
    "clf_2.fit(X_train,y_train)\n",
    "C2=clf_2.best_params_['C']\n",
    "gamma2=clf_2.best_params_['gamma']\n",
    "\n",
    "clf_2 = SVC(kernel = 'rbf', C = C2,gamma=gamma2, probability = True)\n",
    "\n",
    "y_pred_2 = clf_2.fit(X_train, y_train).predict(X_test)\n",
    "\n",
    "prob2 =clf_2.predict_proba(X_test) # save the probability for SVM\n",
    "\n",
    "y_pred2=prob2[:,1]\n",
    "\n",
    "preci2,rec2,thre2=precision_recall_curve(y_test,y_pred2) # PR curve information\n",
    "\n",
    "\n",
    "\n",
    "fpr2,tpr2,threshold2=roc_curve(y_test,y_pred2) # ROC curve information\n",
    "\n"
   ]
  },
  {
   "cell_type": "code",
   "execution_count": 32,
   "metadata": {
    "collapsed": false
   },
   "outputs": [],
   "source": [
    "### logistic regression\n",
    "lgm= skl_lm.LogisticRegression()\n",
    "\n",
    "cv_3=KFold(n_splits=5,shuffle=True,random_state=23)\n",
    "param_grid=dict(C=C_range)\n",
    "clf_3=GridSearchCV(lgm,param_grid,cv=cv_2)\n",
    "\n",
    "clf_3.fit(X_train,y_train)\n",
    "C3=clf_3.best_params_['C']\n",
    "\n",
    "clf_3 = skl_lm.LogisticRegression( C = C1)\n",
    "\n",
    "clf_3.fit(X_train,y_train)\n",
    "prob3 = clf_3.predict_proba(X_test) # save the probability for logistic regression\n",
    "y_pred_3=clf_3.predict(X_test)\n",
    "\n",
    "y_pred3=prob3[:,1]\n",
    "\n",
    "preci3,rec3,thre3=precision_recall_curve(y_test,y_pred3)# PR curve information\n",
    "\n",
    "fpr3,tpr3,threshold3=roc_curve(y_test,y_pred3)# ROC curve information\n",
    "\n",
    "\n"
   ]
  },
  {
   "cell_type": "code",
   "execution_count": 33,
   "metadata": {
    "collapsed": false
   },
   "outputs": [
    {
     "data": {
      "image/png": "[encoded data removed]",
      "text/plain": [
       "<matplotlib.figure.Figure at 0x114050b90>"
      ]
     },
     "execution_count": 33,
     "metadata": {},
     "output_type": "execute_result"
    }
   ],
   "source": [
    "fig, (ax1, ax2) = plt.subplots(1,2, figsize=(12,5))\n",
    "# left plot\n",
    "ax1.plot(rec3,preci3,label='Logistic Regression')\n",
    "ax1.plot(rec1,preci1,label='Linear SVM')\n",
    "ax1.plot(rec2,preci2,label='RBF SVM')\n",
    "\n",
    "ax1.set_xlabel('Recall')\n",
    "ax1.set_ylabel('Precision')\n",
    "ax1.set_title('PR curve')\n",
    "\n",
    "ax1.legend(loc=0)\n",
    "\n",
    "# Right plot\n",
    "ax2.plot(fpr3,tpr3,label='Logistic Regression')\n",
    "ax2.plot(fpr1,tpr1,label='Linear SVM')\n",
    "ax2.plot(fpr2,tpr2,label='RBF SVM')\n",
    "ax2.set_xlabel('False Positive Rate')\n",
    "ax2.set_ylabel('True Positive Rate')\n",
    "ax2.set_title('ROC curve')\n",
    "ax2.legend(loc=0)\n",
    "\n",
    "fig"
   ]
  },
  {
   "cell_type": "markdown",
   "metadata": {},
   "source": [
    "The results indicate RBF SVM performs the best among the three models."
   ]
  },
  {
   "cell_type": "markdown",
   "metadata": {},
   "source": [
    "## Reuters dataset\n",
    "The following dataset contains stemmed words from the Reuters dataset, which is articles.  Each line starts with a topic label (of 8 topics) and then has all of the terms in the document."
   ]
  },
  {
   "cell_type": "code",
   "execution_count": 35,
   "metadata": {
    "collapsed": false
   },
   "outputs": [],
   "source": [
    "from collections import Counter\n",
    "import scipy.sparse as sp"
   ]
  },
  {
   "cell_type": "code",
   "execution_count": 36,
   "metadata": {
    "collapsed": true
   },
   "outputs": [],
   "source": [
    "def read_corpus(filename):\n",
    "    \"\"\"\n",
    "    Read a R8 corpus\n",
    "    Input: filename\n",
    "    Output: the corpus which is a list of documents with topic labels and stemmed terms\n",
    "    \"\"\"\n",
    "    corpus = []\n",
    "    DF = Counter()\n",
    "    with open(filename,\"r\") as f:\n",
    "        for line in f:\n",
    "            label, terms = line.split('\\t')\n",
    "            terms = terms.strip().split()\n",
    "            label = label.strip()\n",
    "            corpus.append([label,Counter(terms)])\n",
    "            DF += Counter(set(terms))\n",
    "    return(corpus, DF)"
   ]
  },
  {
   "cell_type": "code",
   "execution_count": 37,
   "metadata": {
    "collapsed": false
   },
   "outputs": [],
   "source": [
    "train_corpus, train_DF = read_corpus('r8-train-stemmed.txt')\n",
    "test_corpus, test_DF = read_corpus('r8-test-stemmed.txt')"
   ]
  },
  {
   "cell_type": "code",
   "execution_count": 38,
   "metadata": {
    "collapsed": true
   },
   "outputs": [],
   "source": [
    "# You should use the document frequency for the whole corpus\n",
    "full_DF = train_DF + test_DF"
   ]
  },
  {
   "cell_type": "code",
   "execution_count": 39,
   "metadata": {
    "collapsed": false
   },
   "outputs": [],
   "source": [
    "## dict_list is the list of dictionary terms, \n",
    "## while dict_index can take you from the term back to its index\n",
    "dict_list = full_DF.keys()\n",
    "dict_index = {t:i for i,t in enumerate(dict_list)}"
   ]
  },
  {
   "cell_type": "code",
   "execution_count": 40,
   "metadata": {
    "collapsed": true
   },
   "outputs": [],
   "source": [
    "n, p = len(train_corpus), len(full_DF)\n",
    "logN = np.log(len(train_corpus) + len(test_corpus))"
   ]
  },
  {
   "cell_type": "code",
   "execution_count": 41,
   "metadata": {
    "collapsed": false
   },
   "outputs": [],
   "source": [
    "X_tr = sp.lil_matrix((n,p))"
   ]
  },
  {
   "cell_type": "code",
   "execution_count": 42,
   "metadata": {
    "collapsed": false
   },
   "outputs": [],
   "source": [
    "## This creates the sparse training matrix, you will need to modify this to create the test matrix.\n",
    "## I am using a normalized TFIDF transform below, figure out what it is doing.\n",
    "for i in xrange(n):\n",
    "    tpc, doc = train_corpus[i]\n",
    "    vec = np.array([(logN - np.log(train_DF[term]))*doc[term] for term in doc.keys()])\n",
    "    vec = vec / np.linalg.norm(vec)\n",
    "    X_tr[i,[dict_index[term] for term in doc.keys()]] = vec"
   ]
  },
  {
   "cell_type": "markdown",
   "metadata": {},
   "source": [
    "__Exercise 2.1__ (10 pts) Compute Kmeans with 8 clusters on the training set.  For each cluster, what are the 10 terms that have the highest components in the cluster center vectors?  What are the sizes of the clusters?  Compute a 'confusion matrix' to compare these 8 clusters to the labelled topics (I want an 8 x 8 matrix of counts of documents in each topic and cluster - there are 8 topics)."
   ]
  },
  {
   "cell_type": "code",
   "execution_count": 43,
   "metadata": {
    "collapsed": true
   },
   "outputs": [],
   "source": [
    "from sklearn.cluster import KMeans"
   ]
  },
  {
   "cell_type": "code",
   "execution_count": 45,
   "metadata": {
    "collapsed": false
   },
   "outputs": [
    {
     "name": "stdout",
     "output_type": "stream",
     "text": [
      "CPU times: user 1min 11s, sys: 710 ms, total: 1min 11s\n",
      "Wall time: 36.5 s\n",
      "Top terms per cluster:\n",
      "\n",
      "10 terms that have the highest components in the Cluster 0:share, and, stock, for, compani, dlr, offer, inc, pct, corp\n",
      "10 terms that have the highest components in the Cluster 1:stg, mln, monei, bank, profit, england, market, pretax, shortag, bill\n",
      "10 terms that have the highest components in the Cluster 2:profit, loss, ct, net, shr, mln, rev, qtr, oper, dlr\n",
      "10 terms that have the highest components in the Cluster 3:bank, billion, rate, pct, dlr, mln, earn, year, quarter, and\n",
      "10 terms that have the highest components in the Cluster 4:trade, oil, japan, and, that, crude, price, japanes, barrel, offici\n",
      "10 terms that have the highest components in the Cluster 5:qtly, div, ct, record, pai, prior, april, march, set, payout\n",
      "10 terms that have the highest components in the Cluster 6:net, ct, shr, mln, rev, qtr, dlr, avg, oper, year\n",
      "10 terms that have the highest components in the Cluster 7:loss, shr, ct, mln, net, rev, dlr, qtr, oper, year\n"
     ]
    }
   ],
   "source": [
    "### Kmeans with 8 clusters\n",
    "num_clusters = 8\n",
    "km = KMeans(n_clusters=num_clusters,random_state=23)\n",
    "%time km.fit(X_tr)\n",
    "clusters = km.labels_.tolist()\n",
    "from __future__ import print_function\n",
    "\n",
    "### 10 terms that have the highest components in the cluster center vectors\n",
    "Ntop=10\n",
    "print(\"Top terms per cluster:\")\n",
    "print()\n",
    "#sort cluster centers by proximity to centroid\n",
    "order_centroids = km.cluster_centers_.argsort()[:, ::-1] \n",
    "for i in range(num_clusters):\n",
    "    top10_terms = [dict_index.keys()[dict_index.values().index(term_index)] for term_index in order_centroids[i][:Ntop]]\n",
    "    print('10 terms that have the highest components in the Cluster are ' + str(i) + ':' + ', '.join(top10_terms))\n",
    "\n"
   ]
  },
  {
   "cell_type": "code",
   "execution_count": 50,
   "metadata": {
    "collapsed": false
   },
   "outputs": [
    {
     "name": "stdout",
     "output_type": "stream",
     "text": [
      "The sizes of the 8 clusters are as follows \n"
     ]
    },
    {
     "data": {
      "text/plain": [
       "Counter({0: 2167, 1: 113, 2: 359, 3: 802, 4: 582, 5: 456, 6: 722, 7: 284})"
      ]
     },
     "execution_count": 50,
     "metadata": {},
     "output_type": "execute_result"
    }
   ],
   "source": [
    "label_size = {key: lab for key, lab in zip(range(len(train_corpus)), km.labels_)}\n",
    "print ('The sizes of the 8 clusters are as follows: ')\n",
    "Counter(label_size.values())"
   ]
  },
  {
   "cell_type": "code",
   "execution_count": 51,
   "metadata": {
    "collapsed": false
   },
   "outputs": [],
   "source": [
    "## This creates the sparse training matrix for test matrix.\n",
    "n_test, p = len(test_corpus), len(full_DF)\n",
    "X_test = sp.lil_matrix((n_test,p))\n",
    "\n",
    "for i in xrange(n_test):\n",
    "    tpc, doc = test_corpus[i]\n",
    "    vec = np.array([(logN - np.log(test_DF[term]))*doc[term] for term in doc.keys()])\n",
    "    vec = vec / np.linalg.norm(vec)\n",
    "    X_test[i,[dict_index[term] for term in doc.keys()]] = vec"
   ]
  },
  {
   "cell_type": "code",
   "execution_count": null,
   "metadata": {
    "collapsed": true
   },
   "outputs": [],
   "source": [
    "from sklearn.metrics import confusion_matrix"
   ]
  },
  {
   "cell_type": "code",
   "execution_count": 53,
   "metadata": {
    "collapsed": true
   },
   "outputs": [],
   "source": [
    "topics = {key: tpc for key, tpc in zip(range(len(test_corpus)), [test_corpus[i][0] for i in range(len(test_corpus))])}\n",
    "\n",
    "confusion_dict = {}\n",
    "for tpc in set(topics.values()):\n",
    "    true_index = [k for k, v in topics.iteritems() if v == tpc]\n",
    "    dict_count = {k: labels[k] for k in true_index }\n",
    "    count = Counter(dict_count.values())\n",
    "    confusion_dict[tpc] = {k: v for k, v in zip(count.keys(), count.values())}    "
   ]
  },
  {
   "cell_type": "code",
   "execution_count": 54,
   "metadata": {
    "collapsed": true
   },
   "outputs": [],
   "source": [
    "def loc(key):\n",
    "    loc = []\n",
    "    for i in range(num_clusters):\n",
    "        try:\n",
    "            loc.append(confusion_dict[key][i])\n",
    "        except KeyError:\n",
    "            loc.append(0)\n",
    "    return loc"
   ]
  },
  {
   "cell_type": "code",
   "execution_count": 56,
   "metadata": {
    "collapsed": false
   },
   "outputs": [
    {
     "name": "stdout",
     "output_type": "stream",
     "text": [
      " The Confusion Matrix is as follows:\n"
     ]
    },
    {
     "data": {
      "text/plain": [
       "array([[398,  21,  73, 141, 135, 106, 165,  44],\n",
       "       [ 31,   1,  10,  12,   8,   9,  12,   4],\n",
       "       [ 36,   0,   8,   7,  10,   5,   5,   4],\n",
       "       [275,  12,  58,  99,  66,  65,  95,  26],\n",
       "       [  4,   0,   3,   1,   1,   0,   1,   0],\n",
       "       [ 29,   2,   5,  11,  12,   4,  12,   6],\n",
       "       [ 67,   0,   2,  17,  10,   8,  15,   2],\n",
       "       [ 15,   0,   1,   2,   4,   5,   8,   1]])"
      ]
     },
     "execution_count": 56,
     "metadata": {},
     "output_type": "execute_result"
    }
   ],
   "source": [
    "confusionmatrix = np.array([loc(key) for key in confusion_dict.keys()])\n",
    "print (' The Confusion Matrix is as follows:')\n",
    "confusionmatrix # rows are topics, columns are clusters"
   ]
  },
  {
   "cell_type": "markdown",
   "metadata": {},
   "source": [
    "__Exercise 2.2__ (10 pts) Reverse the roles of words and documents and perform hierarchical agglomerative clustering (you can just transpose X) up to 40 clusters.  Compare the dendrograms for three different linkage types, and try to make sense of the resulting clusters.\n",
    "\n",
    "http://scikit-learn.org/stable/modules/generated/sklearn.cluster.AgglomerativeClustering.html\n",
    "https://docs.scipy.org/doc/scipy/reference/generated/scipy.cluster.hierarchy.dendrogram.html"
   ]
  },
  {
   "cell_type": "code",
   "execution_count": 58,
   "metadata": {
    "collapsed": false
   },
   "outputs": [],
   "source": [
    "n_mostcommon=1000 # choose 1000 most common words in training set\n",
    "common_words = sorted(train_DF.items(), key=lambda (k, v): v, reverse=True)[:n_mostcommon]\n",
    "words = [common_words[i][0] for i in range(n_mostcommon)]\n",
    "\n",
    "n, p = len(train_corpus), n_mostcommon\n",
    "logN = np.log(len(train_corpus) + len(test_corpus))\n",
    "\n",
    "X_tr_n = np.empty([n,p], dtype=float)\n",
    "\n",
    "for i in xrange(n):\n",
    "    tpc, doc = train_corpus[i]\n",
    "    doc_n = {}\n",
    "    for k, v in zip(doc.keys(), doc.values()):\n",
    "        if k in words:\n",
    "            doc_n[k] = v\n",
    "            \n",
    "    dict_index_n = {k:v for k,v in zip(words, range(1000))}\n",
    "            \n",
    "    vec = np.array([(logN - np.log(train_DF[term]))*doc_n[term] for term in doc_n.keys()])\n",
    "    vec = vec / np.linalg.norm(vec)\n",
    "    X_tr_n[i,[dict_index_n[term] for term in doc_n.keys()]] = vec\n",
    "\n",
    "X_tr_n_i = X_tr_n.transpose()"
   ]
  },
  {
   "cell_type": "code",
   "execution_count": 59,
   "metadata": {
    "collapsed": true
   },
   "outputs": [],
   "source": [
    "from scipy.cluster import hierarchy\n",
    "import sys"
   ]
  },
  {
   "cell_type": "code",
   "execution_count": 60,
   "metadata": {
    "collapsed": true
   },
   "outputs": [],
   "source": [
    "sys.setrecursionlimit(10*n_mostcommon)"
   ]
  },
  {
   "cell_type": "code",
   "execution_count": 72,
   "metadata": {
    "collapsed": false
   },
   "outputs": [
    {
     "name": "stdout",
     "output_type": "stream",
     "text": [
      "linkage type=single\n"
     ]
    },
    {
     "data": {
      "image/png": "[encoded data removed]",
      "text/plain": [
       "<matplotlib.figure.Figure at 0x11420bd10>"
      ]
     },
     "execution_count": 72,
     "metadata": {},
     "output_type": "execute_result"
    }
   ],
   "source": [
    "print (\"linkage type=single\")\n",
    "link1 = hierarchy.linkage(X_tr_n_i, 'single')\n",
    "\n",
    "fig1, ax = plt.subplots()\n",
    "dn = hierarchy.dendrogram(link1, p=40, truncate_mode = 'lastp')\n",
    "plt.xticks(rotation=90)\n",
    "start, end = ax.get_xlim()\n",
    "ax.xaxis.set_ticks(np.arange(start, end, 20))\n",
    "fig1"
   ]
  },
  {
   "cell_type": "code",
   "execution_count": 73,
   "metadata": {
    "collapsed": false
   },
   "outputs": [
    {
     "name": "stdout",
     "output_type": "stream",
     "text": [
      "linkage type=average\n"
     ]
    },
    {
     "data": {
      "image/png": "[encoded data removed]",
      "text/plain": [
       "<matplotlib.figure.Figure at 0x11fb7aed0>"
      ]
     },
     "execution_count": 73,
     "metadata": {},
     "output_type": "execute_result"
    }
   ],
   "source": [
    "print (\"linkage type=average\")\n",
    "fig2, ax = plt.subplots()\n",
    "link3 = hierarchy.linkage(X_tr_n_i, 'average')\n",
    "dn = hierarchy.dendrogram(link3, p=40, truncate_mode = 'lastp')\n",
    "plt.xticks(rotation=90)\n",
    "start, end = ax.get_xlim()\n",
    "ax.xaxis.set_ticks(np.arange(start, end, 20))\n",
    "fig2\n"
   ]
  },
  {
   "cell_type": "code",
   "execution_count": 74,
   "metadata": {
    "collapsed": false
   },
   "outputs": [
    {
     "name": "stdout",
     "output_type": "stream",
     "text": [
      "linkage type= complete\n"
     ]
    },
    {
     "data": {
      "image/png": "[encoded data removed]",
      "text/plain": [
       "<matplotlib.figure.Figure at 0x1196fe450>"
      ]
     },
     "execution_count": 74,
     "metadata": {},
     "output_type": "execute_result"
    }
   ],
   "source": [
    "print (\"linkage type= complete\")\n",
    "fig3, ax = plt.subplots()\n",
    "link2 = hierarchy.linkage(X_tr_n_i, 'complete')\n",
    "dn = hierarchy.dendrogram(link2, p=40, truncate_mode = 'lastp')\n",
    "plt.xticks(rotation=90)\n",
    "start, end = ax.get_xlim()\n",
    "ax.xaxis.set_ticks(np.arange(start, end, 20))\n",
    "fig3\n",
    "\n"
   ]
  },
  {
   "cell_type": "code",
   "execution_count": null,
   "metadata": {
    "collapsed": true
   },
   "outputs": [],
   "source": []
  },
  {
   "cell_type": "markdown",
   "metadata": {},
   "source": [
    "__Exercise 2.3__ (10 pts) Use SVMs trained on the training set to predict the test set.  Evaluate the performance with the ROC, PR, and confusion matrix.  Don't forget to appropriately cross-validate to tune parameters."
   ]
  },
  {
   "cell_type": "markdown",
   "metadata": {},
   "source": [
    "In this problem, we choose linear SVM for an less time-consuming way of tuning parameters. "
   ]
  },
  {
   "cell_type": "code",
   "execution_count": 76,
   "metadata": {
    "collapsed": true
   },
   "outputs": [],
   "source": [
    "# train response\n",
    "y_train = [train_corpus[i][0] for i in range(len(train_corpus))]\n",
    "# test response\n",
    "y_test = [test_corpus[i][0] for i in range(len(test_corpus))]"
   ]
  },
  {
   "cell_type": "code",
   "execution_count": null,
   "metadata": {
    "collapsed": true
   },
   "outputs": [],
   "source": [
    "# tune parameters for linear SVM\n",
    "svrb=SVC(kernel='linear')\n",
    "cv=KFold(n_splits=5,shuffle=True,random_state=23)\n",
    "param_grid=dict(C=C_range)\n",
    "clf=GridSearchCV(svrb,param_grid,cv=cv)\n",
    "\n",
    "clf.fit(X_tr,y_train)\n",
    "C=clf.best_params_['C']\n",
    "\n",
    "\n",
    "clf = SVC(kernel = 'linear', C = C, probability = True)\n",
    "\n",
    "clf.fit(X_tr,y_train)\n"
   ]
  },
  {
   "cell_type": "code",
   "execution_count": 82,
   "metadata": {
    "collapsed": true
   },
   "outputs": [],
   "source": [
    "from sklearn.metrics import confusion_matrix"
   ]
  },
  {
   "cell_type": "code",
   "execution_count": 83,
   "metadata": {
    "collapsed": false
   },
   "outputs": [
    {
     "name": "stdout",
     "output_type": "stream",
     "text": [
      "[[ 681    1   12    0    0    0    0    2]\n",
      " [   5  113    0    0    0    0    2    1]\n",
      " [   6    0 1077    0    0    0    0    0]\n",
      " [   0    0    0   10    0    0    0    0]\n",
      " [   2    0    0    0   68   10    0    1]\n",
      " [   5    0    1    0    6   73    0    2]\n",
      " [   6    3    0    0    0    0   27    0]\n",
      " [   2    0    0    0    0    0    0   73]]\n"
     ]
    }
   ],
   "source": [
    "print(confusion_matrix(y_test, clf.predict(X_test)))"
   ]
  },
  {
   "cell_type": "code",
   "execution_count": 86,
   "metadata": {
    "collapsed": false
   },
   "outputs": [
    {
     "data": {
      "image/png": "[encoded data removed]",
      "text/plain": [
       "<matplotlib.figure.Figure at 0x1195c1c10>"
      ]
     },
     "execution_count": 86,
     "metadata": {},
     "output_type": "execute_result"
    }
   ],
   "source": [
    "y_train_new = [1 if label == 'earn' else 0 for label in y_train]\n",
    "y_test_new = [1 if label == 'earn' else 0 for label in y_test]\n",
    "clf.fit(X_tr, y_train_new)\n",
    "y_score = clf.decision_function(X_test)\n",
    "\n",
    "# creating plot\n",
    "fig4, (ax1, ax2) = plt.subplots(1,2, figsize=(12,5))\n",
    "# Left plot\n",
    "y_prob_pred = [max(prob) for prob in clf.predict_proba(X_test)] \n",
    "\n",
    "preci,rec,thre=precision_recall_curve(y_test_new,y_prob_pred)# PR curve information\n",
    "ax1.plot(rec,preci)\n",
    "ax1.set_xlabel('Recall')\n",
    "ax1.set_ylabel('Precision')\n",
    "ax1.set_title('PR curve')\n",
    "\n",
    "# Right plot\n",
    "fpr, tpr, thresholds = roc_curve(y_test_new, y_score)\n",
    "ax2.plot(fpr,tpr)\n",
    "ax2.set_xlabel('False Positive Rate')\n",
    "ax2.set_ylabel('True Positive Rate')\n",
    "ax2.set_title('ROC curve')\n",
    "\n",
    "fig4"
   ]
  },
  {
   "cell_type": "code",
   "execution_count": null,
   "metadata": {
    "collapsed": true
   },
   "outputs": [],
   "source": []
  }
 ],
 "metadata": {
  "anaconda-cloud": {},
  "kernelspec": {
   "display_name": "Python 2",
   "language": "python",
   "name": "python2"
  },
  "language_info": {
   "codemirror_mode": {
    "name": "ipython",
    "version": 2
   },
   "file_extension": ".py",
   "mimetype": "text/x-python",
   "name": "python",
   "nbconvert_exporter": "python",
   "pygments_lexer": "ipython2",
   "version": "2.7.13"
  }
 },
 "nbformat": 4,
 "nbformat_minor": 2
}
