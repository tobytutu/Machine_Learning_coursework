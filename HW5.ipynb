{
 "cells": [
  {
   "cell_type": "markdown",
   "metadata": {},
   "source": [
    "# STA 208: Homework 5"
   ]
  },
  {
   "cell_type": "markdown",
   "metadata": {},
   "source": [
    "## Instructions\n",
    "\n",
    "We use a script that extracts your answers by looking for cells in between the cells containing the exercise statements (beginning with __Exercise X.X__).  So you \n",
    "\n",
    "- MUST add cells in between the exercise statements and add answers within them and\n",
    "- MUST NOT modify the existing cells, particularly not the problem statement\n",
    "\n",
    "To make markdown, please switch the cell type to markdown (from code) - you can hit 'm' when you are in command mode - and use the markdown language.  For a brief tutorial see: https://daringfireball.net/projects/markdown/syntax\n",
    "\n",
    "In the conceptual exercises you should provide an explanation, with math when necessary, for any answers.  When answering with math you should use basic LaTeX, as in \n",
    "$$E(Y|X=x) = \\int_{\\mathcal{Y}} f_{Y|X}(y|x) dy = \\int_{\\mathcal{Y}} \\frac{f_{Y,X}(y,x)}{f_{X}(x)} dy$$\n",
    "for displayed equations, and $R_{i,j} = 2^{-|i-j|}$ for inline equations.  (To see the contents of this cell in markdown, double click on it or hit Enter in escape mode.)  To see a list of latex math symbols see here: http://web.ift.uib.no/Teori/KURS/WRK/TeX/symALL.html\n",
    "\n",
    "When writing pseudocode, you should use enumerated lists, such as \n",
    "\n",
    "__Algorithm: Ordinary Least Squares Fit__\n",
    "(Input: X, y; \n",
    "Output: $\\beta$)\n",
    "1. Initialize the $p \\times p$ Gram matrix, $G \\gets 0$, and the vector $b \\gets 0$.\n",
    "2. For each sample, $x_i$:\n",
    " 1. $G \\gets G + x_i x_i^\\top$.\n",
    " 2. $b \\gets b + y_i x_i$\n",
    "3. Solve the linear system $G \\beta = b$ and return $\\beta$\n"
   ]
  },
  {
   "cell_type": "markdown",
   "metadata": {},
   "source": [
    "__Exercise 1__ Recall the adaboost algorithm for $y_i \\in \\{-1,1\\}$...\n",
    "\n",
    "1. Initialize the observed weights $w^{(1)}_i \\gets 1/n$, $t \\gets 1$.\n",
    "1. For $t = 1,\\ldots,T$\n",
    " 1. Get a classifier $f_t(x) \\in \\{-1,1\\}$\n",
    " 1. Get the weighted error: $\\epsilon_t = \\sum_{i=1}^n w_i^{(t)} 1\\{ f_t(x_i) \\ne y_i \\}$\n",
    " 1. Let $\\alpha_t \\gets \\log (\\epsilon_t / (1 - \\epsilon_t))$\n",
    " 1. $w^{(t+1)}_i \\gets w^{(t)}_i \\exp ( -y_i f_t(x_i) \\alpha_t )$ for all i.\n",
    " 1. Let $Z_t \\gets \\sum_{i=1}^n w^{(t)}_i$, and $w^{(t+1)}_i \\gets w_i^{(t+1)} / Z_t$ for all i.\n",
    "1. Output the classifier: $$\\hat y(x) = {\\rm sign}\\left( \\sum_{t=1}^T \\alpha_t f_t(x) \\right)$$\n",
    "\n",
    "We will demonstrate that the training error is bounded if each of these classifiers is a weak learner.  To this end, let $\\epsilon_t = \\frac 12 - \\gamma_t$.  \n",
    "If we can show that the training error is bounded by\n",
    "$$ \\prod_{t=1}^T \\sqrt{2 \\epsilon_t (1- \\epsilon_t)} $$ then\n",
    "we will see that the training error is bounded by\n",
    "$$ \\exp\\left( - 2 \\sum_{t=1}^T \\gamma_t^2 \\right) $$\n",
    "because $\\sqrt{2 \\epsilon_t(1 - \\epsilon_t)} \\le \\exp(2 \\gamma_t^2)$."
   ]
  },
  {
   "cell_type": "markdown",
   "metadata": {},
   "source": [
    "__Exercise 1.1__ Demonstrate that \n",
    "$$ w^{(T+1)}_i = \\frac 1n \\frac{\\exp(- y_i f(x_i))}{\\prod_{t=1}^T Z_t}$$\n",
    "where $f(x) = \\sum_{t=1}^T \\alpha_t f_t(x)$."
   ]
  },
  {
   "cell_type": "markdown",
   "metadata": {},
   "source": [
    "__Exercise 1.1__\n",
    "\n",
    "Since $w_i^{T+1}=\\frac{w_i^T exp(-y_i f_T(x_i) \\alpha_T)}{Z_T}$, we can have the following:\n",
    "$$w_i^{T+1}=\\frac{w_i^T exp(-y_i f_T(x_i) \\alpha_T)}{Z_T}=\\frac{w_i^{T-1}exp(-y_i f_{T-1}(x_i)\\alpha_{T-1})exp(-y_i f_T(x_i)\\alpha_T)}{Z_T Z_{T-1}}$$\n",
    "When we apply the above relation recursively from T to 1, we can finally reach the following:\n",
    "$$ w_i^{T+1}=\\frac{w_1 exp(-y_i \\sum_{t=1}^T [f_t(x)\\alpha_t])}{\\prod_{t=1}^T Z_t}$$\n",
    "From the definition we know $w_1=\\frac{1}{n}$ and given $f(x) = \\sum_{t=1}^T \\alpha_t f_t(x)$, we can have$$ w^{(T+1)}_i = \\frac 1n \\frac{\\exp(- y_i f(x_i))}{\\prod_{t=1}^T Z_t}$$\n",
    "Therefore, the desired result is obtained."
   ]
  },
  {
   "cell_type": "markdown",
   "metadata": {},
   "source": [
    "__Exercise 1.2__ Using this, show that the training error, $\\frac 1n \\sum_{i=1}^n 1\\{ y_i \\ne \\hat y(x_i)\\}$ is bounded by $\\prod_{t=1}^T Z_t$.  Hint: use the fact that $1\\{ z < 0\\} \\le \\exp(-z)$."
   ]
  },
  {
   "cell_type": "markdown",
   "metadata": {},
   "source": [
    "__Exercise 1.2__\n",
    "\n",
    "Based on the formulation of the above algorithm of adaboost algorithm, we can get the following: \n",
    "if $ y_i\\neq\\hat{y}(x_i), y_i f_t(x_i)<0$ and if $ y_i=\\hat{y}(x_i), y_i f_t(x_i)\\geq0$\n",
    "\n",
    "Hence,$1(y_i\\neq\\hat{y}(x_i)\\leq exp(-y_i f_t(x_i))$. Accordlingly, we can have $\\frac 1n \\sum_{i=1}^n 1\\{ y_i \\ne \\hat y(x_i)\\} \\leq \\frac 1 n \\sum_{i=1}^n exp(-y_i f_t(x_i))$\n",
    "\n",
    "From the results in Exercise 1.1, we have $ w^{(T+1)}_i = \\frac 1n \\frac{\\exp(- y_i f(x_i))}{\\prod_{t=1}^T Z_t}$, so $\\exp(- y_i f(x_i))=n w^{(T+1)}_i \\prod_{t=1}^T Z_t$. As a result, we can get the following:$$\\frac 1n \\sum_{i=1}^n 1\\{ y_i \\ne \\hat y(x_i)\\} \\leq \\frac 1 n \\sum_{i=1}^n exp(-y_i f_t(x_i))=\\frac 1 n \\sum_{i=1}^n n w^{(T+1)}_i \\prod_{t=1}^T Z_t=\\sum_{i=1}^n w^{(T+1)}_i \\prod_{t=1}^T Z_t=1 \\times \\prod_{t=1}^T Z_t=\\prod_{t=1}^T Z_t$$\n",
    "Therefore,the training error, $\\frac 1n \\sum_{i=1}^n 1\\{ y_i \\ne \\hat y(x_i)\\}$ is bounded by $\\prod_{t=1}^T Z_t$."
   ]
  },
  {
   "cell_type": "markdown",
   "metadata": {},
   "source": [
    "__Exercise 1.3__ Show that \n",
    "$$ Z_t = \\sqrt{2 \\epsilon_t (1 - \\epsilon_t)}.$$"
   ]
  },
  {
   "cell_type": "markdown",
   "metadata": {},
   "source": [
    "__Exercise 1.3__\n",
    "\n",
    "$$Z_t=\\sum w_i^t exp(-y_i f_t(x_i)\\alpha_t)=\\sum_{y_i=f_t(x_i)} w_i^t exp(-y_i f_t(x_i)\\alpha_t) +\\sum_{y_i\\neq f_t(x_i)} w_i^t exp(-y_i f_t(x_i)\\alpha_t)=\\sum_{y_i=f_t(x_i)} w_i^t exp(-\\alpha_t) +\\sum_{y_i\\neq f_t(x_i)}w_i^t exp(\\alpha_t) $$\n",
    "We also have $\\alpha_t=\\frac 1 2 log \\frac {1-\\epsilon_t}{\\epsilon_t}$,so $exp(-\\alpha_t)=\\sqrt{\\frac {1-\\epsilon_t}{\\epsilon_t}},exp(\\alpha_t)=\\sqrt{\\frac {\\epsilon_t}{1-\\epsilon_t}}$. It can also be obtained that $\\sum_{y_i=f_t(x_i)} w_i^t=1-\\epsilon_t,\\sum_{y_i\\neq f_t(x_i)} w_i^t=\\epsilon_t$, we have:\n",
    "$$Z_t=\\sum_{y_i=f_t(x_i)} w_i^t exp(-\\alpha_t) +\\sum_{y_i\\neq f_t(x_i)}w_i^t exp(\\alpha_t)=(1-\\epsilon_t)\\sqrt{\\frac {\\epsilon_t}{1-\\epsilon_t}}+\\epsilon_t \\sqrt{\\frac {1-\\epsilon_t}{\\epsilon_t}}=\\sqrt{\\epsilon_t (1 - \\epsilon_t)}+\\sqrt{\\epsilon_t (1 - \\epsilon_t)}=2\\sqrt{\\epsilon_t (1 - \\epsilon_t)}$$\n",
    "So the proof is complete."
   ]
  },
  {
   "cell_type": "markdown",
   "metadata": {},
   "source": [
    "## Bank Dataset\n",
    "The following dataset can be found at <a href=\"https://archive.ics.uci.edu/ml/datasets/Bank+Marketing\">UCI ML repo</a>."
   ]
  },
  {
   "cell_type": "code",
   "execution_count": 373,
   "metadata": {
    "collapsed": false
   },
   "outputs": [],
   "source": [
    "import pandas as pd\n",
    "import numpy as np"
   ]
  },
  {
   "cell_type": "code",
   "execution_count": 374,
   "metadata": {
    "collapsed": true
   },
   "outputs": [],
   "source": [
    "bank = pd.read_csv('bank/bank-full.csv',sep=\";\")"
   ]
  },
  {
   "cell_type": "code",
   "execution_count": 148,
   "metadata": {
    "collapsed": false
   },
   "outputs": [
    {
     "data": {
      "text/html": [
       "<div>\n",
       "<style>\n",
       "    .dataframe thead tr:only-child th {\n",
       "        text-align: right;\n",
       "    }\n",
       "\n",
       "    .dataframe thead th {\n",
       "        text-align: left;\n",
       "    }\n",
       "\n",
       "    .dataframe tbody tr th {\n",
       "        vertical-align: top;\n",
       "    }\n",
       "</style>\n",
       "<table border=\"1\" class=\"dataframe\">\n",
       "  <thead>\n",
       "    <tr style=\"text-align: right;\">\n",
       "      <th></th>\n",
       "      <th>age</th>\n",
       "      <th>job</th>\n",
       "      <th>marital</th>\n",
       "      <th>education</th>\n",
       "      <th>default</th>\n",
       "      <th>balance</th>\n",
       "      <th>housing</th>\n",
       "      <th>loan</th>\n",
       "      <th>contact</th>\n",
       "      <th>day</th>\n",
       "      <th>month</th>\n",
       "      <th>duration</th>\n",
       "      <th>campaign</th>\n",
       "      <th>pdays</th>\n",
       "      <th>previous</th>\n",
       "      <th>poutcome</th>\n",
       "      <th>y</th>\n",
       "    </tr>\n",
       "  </thead>\n",
       "  <tbody>\n",
       "    <tr>\n",
       "      <th>0</th>\n",
       "      <td>58</td>\n",
       "      <td>management</td>\n",
       "      <td>married</td>\n",
       "      <td>tertiary</td>\n",
       "      <td>no</td>\n",
       "      <td>2143</td>\n",
       "      <td>yes</td>\n",
       "      <td>no</td>\n",
       "      <td>unknown</td>\n",
       "      <td>5</td>\n",
       "      <td>may</td>\n",
       "      <td>261</td>\n",
       "      <td>1</td>\n",
       "      <td>-1</td>\n",
       "      <td>0</td>\n",
       "      <td>unknown</td>\n",
       "      <td>no</td>\n",
       "    </tr>\n",
       "    <tr>\n",
       "      <th>1</th>\n",
       "      <td>44</td>\n",
       "      <td>technician</td>\n",
       "      <td>single</td>\n",
       "      <td>secondary</td>\n",
       "      <td>no</td>\n",
       "      <td>29</td>\n",
       "      <td>yes</td>\n",
       "      <td>no</td>\n",
       "      <td>unknown</td>\n",
       "      <td>5</td>\n",
       "      <td>may</td>\n",
       "      <td>151</td>\n",
       "      <td>1</td>\n",
       "      <td>-1</td>\n",
       "      <td>0</td>\n",
       "      <td>unknown</td>\n",
       "      <td>no</td>\n",
       "    </tr>\n",
       "    <tr>\n",
       "      <th>2</th>\n",
       "      <td>33</td>\n",
       "      <td>entrepreneur</td>\n",
       "      <td>married</td>\n",
       "      <td>secondary</td>\n",
       "      <td>no</td>\n",
       "      <td>2</td>\n",
       "      <td>yes</td>\n",
       "      <td>yes</td>\n",
       "      <td>unknown</td>\n",
       "      <td>5</td>\n",
       "      <td>may</td>\n",
       "      <td>76</td>\n",
       "      <td>1</td>\n",
       "      <td>-1</td>\n",
       "      <td>0</td>\n",
       "      <td>unknown</td>\n",
       "      <td>no</td>\n",
       "    </tr>\n",
       "    <tr>\n",
       "      <th>3</th>\n",
       "      <td>47</td>\n",
       "      <td>blue-collar</td>\n",
       "      <td>married</td>\n",
       "      <td>unknown</td>\n",
       "      <td>no</td>\n",
       "      <td>1506</td>\n",
       "      <td>yes</td>\n",
       "      <td>no</td>\n",
       "      <td>unknown</td>\n",
       "      <td>5</td>\n",
       "      <td>may</td>\n",
       "      <td>92</td>\n",
       "      <td>1</td>\n",
       "      <td>-1</td>\n",
       "      <td>0</td>\n",
       "      <td>unknown</td>\n",
       "      <td>no</td>\n",
       "    </tr>\n",
       "    <tr>\n",
       "      <th>4</th>\n",
       "      <td>33</td>\n",
       "      <td>unknown</td>\n",
       "      <td>single</td>\n",
       "      <td>unknown</td>\n",
       "      <td>no</td>\n",
       "      <td>1</td>\n",
       "      <td>no</td>\n",
       "      <td>no</td>\n",
       "      <td>unknown</td>\n",
       "      <td>5</td>\n",
       "      <td>may</td>\n",
       "      <td>198</td>\n",
       "      <td>1</td>\n",
       "      <td>-1</td>\n",
       "      <td>0</td>\n",
       "      <td>unknown</td>\n",
       "      <td>no</td>\n",
       "    </tr>\n",
       "  </tbody>\n",
       "</table>\n",
       "</div>"
      ],
      "text/plain": [
       "   age           job  marital  education default  balance housing loan  \\\n",
       "0   58    management  married   tertiary      no     2143     yes   no   \n",
       "1   44    technician   single  secondary      no       29     yes   no   \n",
       "2   33  entrepreneur  married  secondary      no        2     yes  yes   \n",
       "3   47   blue-collar  married    unknown      no     1506     yes   no   \n",
       "4   33       unknown   single    unknown      no        1      no   no   \n",
       "\n",
       "   contact  day month  duration  campaign  pdays  previous poutcome   y  \n",
       "0  unknown    5   may       261         1     -1         0  unknown  no  \n",
       "1  unknown    5   may       151         1     -1         0  unknown  no  \n",
       "2  unknown    5   may        76         1     -1         0  unknown  no  \n",
       "3  unknown    5   may        92         1     -1         0  unknown  no  \n",
       "4  unknown    5   may       198         1     -1         0  unknown  no  "
      ]
     },
     "execution_count": 148,
     "metadata": {},
     "output_type": "execute_result"
    }
   ],
   "source": [
    "bank.head()"
   ]
  },
  {
   "cell_type": "code",
   "execution_count": 375,
   "metadata": {
    "collapsed": false
   },
   "outputs": [],
   "source": [
    "X = bank.iloc[:,:-1]\n",
    "y = bank['y']\n",
    "y = (y == 'yes')*1\n",
    "X = np.array(X)"
   ]
  },
  {
   "cell_type": "code",
   "execution_count": 376,
   "metadata": {
    "collapsed": true
   },
   "outputs": [],
   "source": [
    "from sklearn.preprocessing import OneHotEncoder "
   ]
  },
  {
   "cell_type": "markdown",
   "metadata": {},
   "source": [
    "__Exercise 2.1__ (30 pts) Predict y from X using kernel SVMs, random forests, and adaboost (see the sklearn.ensembles package).  Tune the random forest using the out-of-bag error.  Tune everything else using cross-validation, and assess the models using a separate test set with ROC, PR, confusion matrices.  Write a paragraph about the relative performances of the algorithms and any observations that you've made."
   ]
  },
  {
   "cell_type": "code",
   "execution_count": 377,
   "metadata": {
    "collapsed": false
   },
   "outputs": [],
   "source": [
    "import matplotlib.pyplot as plt\n",
    "from sklearn.svm import SVC\n",
    "from sklearn.ensemble import RandomForestClassifier, AdaBoostClassifier\n",
    "\n",
    "from sklearn import model_selection\n",
    "from sklearn.model_selection import train_test_split,KFold,GridSearchCV,RandomizedSearchCV\n",
    "from sklearn.metrics import confusion_matrix, classification_report, precision_recall_curve, roc_curve,auc,roc_auc_score,accuracy_score\n",
    "from sklearn.preprocessing import scale,MinMaxScaler"
   ]
  },
  {
   "cell_type": "code",
   "execution_count": 378,
   "metadata": {
    "collapsed": false
   },
   "outputs": [],
   "source": [
    "###### convert the categorical data to factors and scale the other variables.\n",
    "for i in range(X.shape[1]):\n",
    "    if len(np.unique(X[:,i]))>10:\n",
    "        if (isinstance(X[2,i], basestring))==True:\n",
    "            bank.iloc[:,i]=bank.iloc[:,i].factorize()[0]\n",
    "        else:\n",
    "            bank.iloc[:,i]= scale(bank.iloc[:,i])\n",
    "    elif (isinstance(X[2,i], basestring))==True:\n",
    "        bank.iloc[:,i]=bank.iloc[:,i].factorize()[0]"
   ]
  },
  {
   "cell_type": "code",
   "execution_count": 379,
   "metadata": {
    "collapsed": false
   },
   "outputs": [],
   "source": [
    "bank.y=bank.y.factorize()[0]\n",
    "X = bank.iloc[:,:-1]\n",
    "X = np.array(X)"
   ]
  },
  {
   "cell_type": "code",
   "execution_count": 380,
   "metadata": {
    "collapsed": true
   },
   "outputs": [],
   "source": [
    "# training and test dataset\n",
    "X_train, X_test, y_train, y_test = train_test_split(X, y, test_size=.4, random_state=23)"
   ]
  },
  {
   "cell_type": "code",
   "execution_count": 216,
   "metadata": {
    "collapsed": false
   },
   "outputs": [],
   "source": [
    "### random forest\n",
    "seed=23\n",
    "max_features2=X.shape[1]\n",
    "max_features1=1\n",
    "error1=[]\n",
    "clf1=RandomForestClassifier(oob_score=True,n_jobs=3,max_features=None,random_state=seed)\n",
    "for i in range(max_features1,max_features2+1):\n",
    "    clf1.set_params(max_features=i)\n",
    "    clf1.fit(X_train,y_train)\n",
    "    \n",
    "    oob_err=1-clf1.oob_score_\n",
    "    error1.append((oob_err))"
   ]
  },
  {
   "cell_type": "code",
   "execution_count": 217,
   "metadata": {
    "collapsed": false
   },
   "outputs": [
    {
     "data": {
      "image/png": "[encoded data removed]",
      "text/plain": [
       "<matplotlib.figure.Figure at 0x116fa64d0>"
      ]
     },
     "metadata": {},
     "output_type": "display_data"
    }
   ],
   "source": [
    "xs=range(max_features1,max_features2+1)\n",
    "plt.plot(xs,error1)\n",
    "plt.show()"
   ]
  },
  {
   "cell_type": "code",
   "execution_count": 214,
   "metadata": {
    "collapsed": false
   },
   "outputs": [
    {
     "data": {
      "text/plain": [
       "9"
      ]
     },
     "execution_count": 214,
     "metadata": {},
     "output_type": "execute_result"
    }
   ],
   "source": [
    "best_rf=np.argmin(error1)+1\n",
    "best_rf\n",
    "clf1.set_params(max_features=best_rf)\n",
    "clf1.fit(X_train,y_train)"
   ]
  },
  {
   "cell_type": "code",
   "execution_count": 237,
   "metadata": {
    "collapsed": true
   },
   "outputs": [],
   "source": [
    "prob1 =clf1.predict_proba(X_test) # save the probability for SVM\n",
    "y_pred1=prob1[:,1]\n",
    "preci1,rec1,thre1=precision_recall_curve(y_test,y_pred1) # PR curve information\n",
    "fpr1,tpr1,threshold1=roc_curve(y_test,y_pred1)# ROC curve information"
   ]
  },
  {
   "cell_type": "code",
   "execution_count": 219,
   "metadata": {
    "collapsed": false
   },
   "outputs": [
    {
     "data": {
      "text/plain": [
       "SVC(C=1.0, cache_size=200, class_weight=None, coef0=0.0,\n",
       "  decision_function_shape=None, degree=3, gamma='auto', kernel='linear',\n",
       "  max_iter=-1, probability=True, random_state=None, shrinking=True,\n",
       "  tol=0.001, verbose=False)"
      ]
     },
     "execution_count": 219,
     "metadata": {},
     "output_type": "execute_result"
    }
   ],
   "source": [
    "### linear SVM\n",
    "\n",
    "C_range=np.logspace(-1,1,3)\n",
    "#gamma_range=np.logspace(-3,3,7)\n",
    "svrl=SVC(kernel='linear')\n",
    "cv=KFold(n_splits=5,random_state=seed)\n",
    "param_grid=dict(C=C_range)\n",
    "clf2=GridSearchCV(svrl,param_grid,cv=cv)\n",
    "clf2.fit(X_train,y_train)\n",
    "\n",
    "C=clf2.best_params_['C']\n",
    "\n",
    "clf2= SVC(kernel = 'linear', C = C, probability = True)\n",
    "clf2.fit(X_train,y_train)"
   ]
  },
  {
   "cell_type": "code",
   "execution_count": 235,
   "metadata": {
    "collapsed": true
   },
   "outputs": [],
   "source": [
    "prob2 =clf2.predict_proba(X_test) # save the probability for SVM\n",
    "y_pred2=prob2[:,1]\n",
    "preci2,rec2,thre2=precision_recall_curve(y_test,y_pred2) # PR curve information\n",
    "fpr2,tpr2,threshold2=roc_curve(y_test,y_pred2)# ROC curve information"
   ]
  },
  {
   "cell_type": "code",
   "execution_count": 260,
   "metadata": {
    "collapsed": false
   },
   "outputs": [
    {
     "data": {
      "text/plain": [
       "SVC(C=1.0, cache_size=200, class_weight=None, coef0=0.0,\n",
       "  decision_function_shape=None, degree=3, gamma=0.10000000000000001,\n",
       "  kernel='rbf', max_iter=-1, probability=True, random_state=None,\n",
       "  shrinking=True, tol=0.001, verbose=False)"
      ]
     },
     "execution_count": 260,
     "metadata": {},
     "output_type": "execute_result"
    }
   ],
   "source": [
    "### rbf SVM\n",
    "C_range=np.logspace(-1,1,3)\n",
    "gamma_range=np.logspace(-1,1,3)\n",
    "param_grid=dict(gamma=gamma_range,C=C_range)\n",
    "\n",
    "svrrr=SVC(kernel='rbf')\n",
    "cv=KFold(n_splits=5,random_state=seed)\n",
    "param_grid=dict(C=C_range,gamma=gamma_range)\n",
    "clf2rr=GridSearchCV(svrrr,param_grid,cv=cv)\n",
    "clf2rr.fit(X_train,y_train)\n",
    "\n",
    "Crr=clf2rr.best_params_['C']\n",
    "gammarr=clf2rr.best_params_['gamma']\n",
    "\n",
    "clf2rr= SVC(kernel = 'rbf', C = Crr,gamma=gammarr,probability = True)\n",
    "clf2rr.fit(X_train,y_train)"
   ]
  },
  {
   "cell_type": "code",
   "execution_count": 233,
   "metadata": {
    "collapsed": true
   },
   "outputs": [],
   "source": [
    "### AdaBoost\n",
    "learning_rate=np.linspace(0.0001,2,21)\n",
    "clf3=AdaBoostClassifier(learning_rate=1.0,random_state=seed)\n",
    "error3=[]\n",
    "cv=KFold(n_splits=5,random_state=seed)\n",
    "param_grid=dict(learning_rate=learning_rate)\n",
    "clf3=GridSearchCV(clf3,param_grid,cv=cv)\n",
    "clf3.fit(X_train,y_train)\n",
    "\n",
    "learning_rate=clf3.best_params_['learning_rate']\n",
    "\n",
    "clf3=AdaBoostClassifier(learning_rate=learning_rate,random_state=seed)\n"
   ]
  },
  {
   "cell_type": "code",
   "execution_count": 265,
   "metadata": {
    "collapsed": true
   },
   "outputs": [],
   "source": [
    "### PR and ROC Curve\n",
    "prob1 =clf1.predict_proba(X_test) # save the probability for Random Forest\n",
    "y_pred1=prob1[:,1]\n",
    "preci1,rec1,thre1=precision_recall_curve(y_test,y_pred1) # PR curve information\n",
    "fpr1,tpr1,threshold1=roc_curve(y_test,y_pred1)# ROC curve information\n",
    "\n",
    "prob2 =clf2.predict_proba(X_test) # save the probability for linear SVM\n",
    "y_pred2=prob2[:,1]\n",
    "preci2,rec2,thre2=precision_recall_curve(y_test,y_pred2) # PR curve information\n",
    "fpr2,tpr2,threshold2=roc_curve(y_test,y_pred2)# ROC curve information\n",
    "\n",
    "prob2rr=clf2.predict_proba(X_test) # save the probability for rbf SVM\n",
    "y_pred2rr=prob2rr[:,1]\n",
    "preci2rr,rec2rr,thre2rr=precision_recall_curve(y_test,y_pred2rr) # PR curve information\n",
    "fpr2rr,tpr2rr,threshold2rr=roc_curve(y_test,y_pred2rr)# ROC curve information\n",
    "\n",
    "prob3 =clf3.predict_proba(X_test) # save the probability for AdaBoost\n",
    "y_pred3=prob3[:,1]\n",
    "preci3,rec3,thre3=precision_recall_curve(y_test,y_pred3) # PR curve information\n",
    "fpr3,tpr3,threshold3=roc_curve(y_test,y_pred3)# ROC curve information"
   ]
  },
  {
   "cell_type": "code",
   "execution_count": 267,
   "metadata": {
    "collapsed": false
   },
   "outputs": [
    {
     "data": {
      "image/png": "[encoded data removed]",
      "text/plain": [
       "<matplotlib.figure.Figure at 0x11b5046d0>"
      ]
     },
     "execution_count": 267,
     "metadata": {},
     "output_type": "execute_result"
    }
   ],
   "source": [
    "fig, (ax1, ax2) = plt.subplots(1,2, figsize=(12,5))\n",
    "# left plot\n",
    "ax1.plot(rec1,preci1,label='Random Forest')\n",
    "ax1.plot(rec2,preci2,label='SVM_linear')\n",
    "ax1.plot(rec2rr,preci2rr,label='SVM_rbf')\n",
    "ax1.plot(rec3,preci3,label='Adaboost')\n",
    "\n",
    "ax1.set_xlabel('Recall')\n",
    "ax1.set_ylabel('Precision')\n",
    "ax1.set_title('PR curve')\n",
    "\n",
    "ax1.legend(loc=0)\n",
    "\n",
    "# Right plot\n",
    "ax2.plot(fpr1,tpr1,label='Random Forest')\n",
    "ax2.plot(fpr2,tpr2,label='SVM_linear')\n",
    "ax2.plot(fpr2rr,tpr2rr,label='SVM_rbf')\n",
    "ax2.plot(fpr3,tpr3,label='Adaboost')\n",
    "ax2.set_xlabel('False Positive Rate')\n",
    "ax2.set_ylabel('True Positive Rate')\n",
    "ax2.set_title('ROC curve')\n",
    "ax2.legend(loc=0)\n",
    "\n",
    "fig"
   ]
  },
  {
   "cell_type": "code",
   "execution_count": 268,
   "metadata": {
    "collapsed": false
   },
   "outputs": [
    {
     "name": "stdout",
     "output_type": "stream",
     "text": [
      "confusion matrix by Random Forest:\n",
      "[[15351   610]\n",
      " [ 1231   893]]\n",
      "confusion matrix by SVM_linear:\n",
      "[[15791   170]\n",
      " [ 1751   373]]\n",
      "confusion matrix by SVM_rbf:\n",
      "[[15620   341]\n",
      " [ 1445   679]]\n",
      "confusion matrix by Adaboost:\n",
      "[[15473   488]\n",
      " [ 1342   782]]\n"
     ]
    }
   ],
   "source": [
    "## Confusion Matrix\n",
    "\n",
    "cm1 = confusion_matrix(y_test, clf1.predict(X_test))\n",
    "print 'confusion matrix by Random Forest:'\n",
    "print cm1\n",
    "\n",
    "cm2 = confusion_matrix(y_test, clf2.predict(X_test))\n",
    "print 'confusion matrix by SVM_linear:'\n",
    "print cm2\n",
    "\n",
    "cm2rr = confusion_matrix(y_test, clf2rr.predict(X_test))\n",
    "print 'confusion matrix by SVM_rbf:'\n",
    "print cm2rr\n",
    "\n",
    "cm3 = confusion_matrix(y_test, clf3.predict(X_test))\n",
    "print 'confusion matrix by Adaboost:'\n",
    "print cm3\n"
   ]
  },
  {
   "cell_type": "code",
   "execution_count": 272,
   "metadata": {
    "collapsed": false
   },
   "outputs": [
    {
     "name": "stdout",
     "output_type": "stream",
     "text": [
      "auc of Random Forest: 0.892780525176\n",
      "auc of linear SVM: 0.881490617844\n",
      "auc of rbf SVM: 0.881490617844\n",
      "auc of Adaboost: 0.905053555093\n"
     ]
    }
   ],
   "source": [
    "### area under curve\n",
    "print \"auc of Random Forest:\",auc(fpr1,tpr1)\n",
    "print \"auc of linear SVM:\",auc(fpr2,tpr2)\n",
    "print \"auc of rbf SVM:\",auc(fpr2rr,tpr2rr)\n",
    "print \"auc of Adaboost:\",auc(fpr3,tpr3)"
   ]
  },
  {
   "cell_type": "markdown",
   "metadata": {},
   "source": [
    "In general, all the models used here provide fairly statisfactory results. More specifically,the results by kernal SVM, Adaboost and Random Forest indicate that Adaboost provides the best prediction results and random forest outperforms SVMs. However, it should be noted that to tune the parameters of the corresponding models, only a small range of the parameters is considered to implement the tuning process. It is observed that random forest is very efficient in cross-validation to choose the parameters and SVM costs a significant amout of time to tune the parameters. Hence, to reduce the time, only a small range is used, which may also effect the comparison between the three models."
   ]
  },
  {
   "cell_type": "markdown",
   "metadata": {},
   "source": [
    "__Exercise 2.2__ (Bonus: 20 pts) Using theano, code online stochastic gradient method for logistic regression with a single hidden layer with three units that uses the sigmoid activation function.  Compare the test error to the previous methods.\n",
    "\n",
    "You can use the code here: http://deeplearning.net/tutorial/mlp.html\n",
    "\n",
    "You may want to use the onehotencoder to encode the categorical variables in X."
   ]
  },
  {
   "cell_type": "code",
   "execution_count": 372,
   "metadata": {
    "collapsed": false
   },
   "outputs": [],
   "source": [
    "import theano\n",
    "import theano.tensor as T"
   ]
  },
  {
   "cell_type": "code",
   "execution_count": 278,
   "metadata": {
    "collapsed": false
   },
   "outputs": [],
   "source": [
    "import os\n",
    "import sys\n",
    "import timeit\n",
    "from logistic_sgd import LogisticRegression, load_data"
   ]
  },
  {
   "cell_type": "code",
   "execution_count": 305,
   "metadata": {
    "collapsed": true
   },
   "outputs": [],
   "source": [
    "# start-snippet-1\n",
    "class HiddenLayer(object):\n",
    "    def __init__(self, rng, input, n_in, n_out, W=None, b=None,\n",
    "                 activation=T.sigmoid):\n",
    "        \"\"\"\n",
    "        Typical hidden layer of a MLP: units are fully-connected and have\n",
    "        sigmoidal activation function. Weight matrix W is of shape (n_in,n_out)\n",
    "        and the bias vector b is of shape (n_out,).\n",
    "\n",
    "        NOTE : The nonlinearity used here is tanh\n",
    "\n",
    "        Hidden unit activation is given by: tanh(dot(input,W) + b)\n",
    "\n",
    "        :type rng: numpy.random.RandomState\n",
    "        :param rng: a random number generator used to initialize weights\n",
    "\n",
    "        :type input: theano.tensor.dmatrix\n",
    "        :param input: a symbolic tensor of shape (n_examples, n_in)\n",
    "\n",
    "        :type n_in: int\n",
    "        :param n_in: dimensionality of input\n",
    "\n",
    "        :type n_out: int\n",
    "        :param n_out: number of hidden units\n",
    "\n",
    "        :type activation: theano.Op or function\n",
    "        :param activation: Non linearity to be applied in the hidden\n",
    "                           layer\n",
    "        \"\"\"\n",
    "        self.input = input\n",
    "        # end-snippet-1\n",
    "\n",
    "        # `W` is initialized with `W_values` which is uniformely sampled\n",
    "        # from sqrt(-6./(n_in+n_hidden)) and sqrt(6./(n_in+n_hidden))\n",
    "        # for tanh activation function\n",
    "        # the output of uniform if converted using asarray to dtype\n",
    "        # theano.config.floatX so that the code is runable on GPU\n",
    "        # Note : optimal initialization of weights is dependent on the\n",
    "        #        activation function used (among other things).\n",
    "        #        For example, results presented in [Xavier10] suggest that you\n",
    "        #        should use 4 times larger initial weights for sigmoid\n",
    "        #        compared to tanh\n",
    "        #        We have no info for other function, so we use the same as\n",
    "        #        tanh.\n",
    "        if W is None:\n",
    "            W_values = np.asarray(\n",
    "                rng.uniform(\n",
    "                    low=-np.sqrt(6. / (n_in + n_out)),\n",
    "                    high=np.sqrt(6. / (n_in + n_out)),\n",
    "                    size=(n_in, n_out)\n",
    "                ),\n",
    "                dtype=theano.config.floatX\n",
    "            )\n",
    "            if activation == theano.tensor.nnet.sigmoid:\n",
    "                W_values *= 4\n",
    "\n",
    "            W = theano.shared(value=W_values, name='W', borrow=True)\n",
    "\n",
    "        if b is None:\n",
    "            b_values = np.zeros((n_out,), dtype=theano.config.floatX)\n",
    "            b = theano.shared(value=b_values, name='b', borrow=True)\n",
    "\n",
    "        self.W = W\n",
    "        self.b = b\n",
    "\n",
    "        lin_output = T.dot(input, self.W) + self.b\n",
    "        self.output = (\n",
    "            lin_output if activation is None\n",
    "            else activation(lin_output)\n",
    "        )\n",
    "        # parameters of the model\n",
    "        self.params = [self.W, self.b]\n",
    "\n",
    "\n",
    "# start-snippet-2\n",
    "class MLP(object):\n",
    "    \"\"\"Multi-Layer Perceptron Class\n",
    "\n",
    "    A multilayer perceptron is a feedforward artificial neural network model\n",
    "    that has one layer or more of hidden units and nonlinear activations.\n",
    "    Intermediate layers usually have as activation function tanh or the\n",
    "    sigmoid function (defined here by a ``HiddenLayer`` class)  while the\n",
    "    top layer is a softmax layer (defined here by a ``LogisticRegression``\n",
    "    class).\n",
    "    \"\"\"\n",
    "\n",
    "    def __init__(self, rng, input, n_in, n_hidden, n_out):\n",
    "        \"\"\"Initialize the parameters for the multilayer perceptron\n",
    "\n",
    "        :type rng: numpy.random.RandomState\n",
    "        :param rng: a random number generator used to initialize weights\n",
    "\n",
    "        :type input: theano.tensor.TensorType\n",
    "        :param input: symbolic variable that describes the input of the\n",
    "        architecture (one minibatch)\n",
    "\n",
    "        :type n_in: int\n",
    "        :param n_in: number of input units, the dimension of the space in\n",
    "        which the datapoints lie\n",
    "\n",
    "        :type n_hidden: int\n",
    "        :param n_hidden: number of hidden units\n",
    "\n",
    "        :type n_out: int\n",
    "        :param n_out: number of output units, the dimension of the space in\n",
    "        which the labels lie\n",
    "\n",
    "        \"\"\"\n",
    "\n",
    "        # Since we are dealing with a one hidden layer MLP, this will translate\n",
    "        # into a HiddenLayer with a tanh activation function connected to the\n",
    "        # LogisticRegression layer; the activation function can be replaced by\n",
    "        # sigmoid or any other nonlinear function\n",
    "        self.hiddenLayer = HiddenLayer(\n",
    "            rng=rng,\n",
    "            input=input,\n",
    "            n_in=n_in,\n",
    "            n_out=n_hidden,\n",
    "            activation=T.sigmoid\n",
    "        )\n",
    "\n",
    "        # The logistic regression layer gets as input the hidden units\n",
    "        # of the hidden layer\n",
    "        self.logRegressionLayer = LogisticRegression(\n",
    "            input=self.hiddenLayer.output,\n",
    "            n_in=n_hidden,\n",
    "            n_out=n_out\n",
    "        )\n",
    "        # end-snippet-2 start-snippet-3\n",
    "        # L1 norm ; one regularization option is to enforce L1 norm to\n",
    "        # be small\n",
    "        self.L1 = (\n",
    "            abs(self.hiddenLayer.W).sum()\n",
    "            + abs(self.logRegressionLayer.W).sum()\n",
    "        )\n",
    "\n",
    "        # square of L2 norm ; one regularization option is to enforce\n",
    "        # square of L2 norm to be small\n",
    "        self.L2_sqr = (\n",
    "            (self.hiddenLayer.W ** 2).sum()\n",
    "            + (self.logRegressionLayer.W ** 2).sum()\n",
    "        )\n",
    "\n",
    "        # negative log likelihood of the MLP is given by the negative\n",
    "        # log likelihood of the output of the model, computed in the\n",
    "        # logistic regression layer\n",
    "        self.negative_log_likelihood = (\n",
    "            self.logRegressionLayer.negative_log_likelihood\n",
    "        )\n",
    "        # same holds for the function computing the number of errors\n",
    "        self.errors = self.logRegressionLayer.errors\n",
    "\n",
    "        # the parameters of the model are the parameters of the two layer it is\n",
    "        # made out of\n",
    "        self.params = self.hiddenLayer.params + self.logRegressionLayer.params\n",
    "        # end-snippet-3\n",
    "\n",
    "        # keep track of model input\n",
    "        self.input = input"
   ]
  },
  {
   "cell_type": "code",
   "execution_count": 308,
   "metadata": {
    "collapsed": false
   },
   "outputs": [],
   "source": [
    "def test_mlp(learning_rate=0.01, L1_reg=0.00, L2_reg=0.0001, n_epochs=1000, batch_size=20, n_hidden=500):\n",
    "    \"\"\"\n",
    "    Demonstrate stochastic gradient descent optimization for a multilayer\n",
    "    perceptron\n",
    "\n",
    "    This is demonstrated on MNIST.\n",
    "\n",
    "    :type learning_rate: float\n",
    "    :param learning_rate: learning rate used (factor for the stochastic\n",
    "    gradient\n",
    "\n",
    "    :type L1_reg: float\n",
    "    :param L1_reg: L1-norm's weight when added to the cost (see\n",
    "    regularization)\n",
    "\n",
    "    :type L2_reg: float\n",
    "    :param L2_reg: L2-norm's weight when added to the cost (see\n",
    "    regularization)\n",
    "\n",
    "    :type n_epochs: int\n",
    "    :param n_epochs: maximal number of epochs to run the optimizer\n",
    "\n",
    "    :type dataset: string\n",
    "    :param dataset: the path of the MNIST dataset file from\n",
    "                 http://www.iro.umontreal.ca/~lisa/deep/data/mnist/mnist.pkl.gz\n",
    "\n",
    "\n",
    "   \"\"\"\n",
    "    bank = pd.read_csv('bank/bank-full.csv',sep=\";\")\n",
    "    X = bank.iloc[:,:-1]\n",
    "    y = bank['y']\n",
    "    y = (y == 'yes')*1\n",
    "    X = np.array(X)\n",
    "\n",
    "    ###### convert the categorical data to factors and scale the other variables.\n",
    "    for i in range(X.shape[1]):\n",
    "        if len(np.unique(X[:,i]))>10:\n",
    "            if (isinstance(X[2,i], basestring))==True:\n",
    "                bank.iloc[:,i]=bank.iloc[:,i].factorize()[0]\n",
    "            else:\n",
    "                bank.iloc[:,i]= scale(bank.iloc[:,i])\n",
    "        elif (isinstance(X[2,i], basestring))==True:\n",
    "            bank.iloc[:,i]=bank.iloc[:,i].factorize()[0]\n",
    "    bank.y=bank.y.factorize()[0]\n",
    "    X = bank.iloc[:,:-1]\n",
    "#    X = np.array(X)\n",
    "\n",
    "\n",
    "    X_train, X_test, y_train, y_test = train_test_split(X, y, test_size=.4, random_state=23)\n",
    "    X_tr, X_val, y_tr, y_val = train_test_split(X_train, y_train, test_size=.3, random_state=23)\n",
    "       \n",
    " \n",
    "    train_set_x, train_set_y = X_tr,y_tr\n",
    "    valid_set_x, valid_set_y = X_val,y_val\n",
    "    test_set_x, test_set_y = X_test,y_test\n",
    "    \n",
    "    # compute number of minibatches for training, validation and testing\n",
    "    n_train_batches = train_set_x.shape[0] // batch_size\n",
    "    n_valid_batches = valid_set_x.shape[0] // batch_size\n",
    "    n_test_batches = test_set_x.shape[0] // batch_size\n",
    "\n",
    "    ######################\n",
    "    # BUILD ACTUAL MODEL #\n",
    "    ######################\n",
    "    print('... building the model')\n",
    "\n",
    "    # allocate symbolic variables for the data\n",
    "    index = T.lscalar()  # index to a [mini]batch\n",
    "    x = T.matrix('x')  # the data is presented as rasterized images\n",
    "    y = T.scalar('y')  # the labels are presented as 1D vector of\n",
    "                        # [int] labels\n",
    "\n",
    "    rng = np.random.RandomState(23)\n",
    "\n",
    "    # construct the MLP class\n",
    "    classifier = MLP(\n",
    "        rng=rng,\n",
    "        input=x,\n",
    "        n_in=28 * 28,\n",
    "        n_hidden=n_hidden,\n",
    "        n_out=3\n",
    "    )\n",
    "\n",
    "    # start-snippet-4\n",
    "    # the cost we minimize during training is the negative log likelihood of\n",
    "    # the model plus the regularization terms (L1 and L2); cost is expressed\n",
    "    # here symbolically\n",
    "    cost = (\n",
    "        classifier.negative_log_likelihood(y)\n",
    "        + L1_reg * classifier.L1\n",
    "        + L2_reg * classifier.L2_sqr\n",
    "    )\n",
    "    # end-snippet-4\n",
    "\n",
    "    # compiling a Theano function that computes the mistakes that are made\n",
    "    # by the model on a minibatch\n",
    "    test_model = theano.function(\n",
    "        inputs=[index],\n",
    "        outputs=classifier.errors(y),\n",
    "        givens={\n",
    "            x: test_set_x[index * batch_size:(index + 1) * batch_size],\n",
    "            y: test_set_y[index * batch_size:(index + 1) * batch_size]\n",
    "        }\n",
    "    )\n",
    "\n",
    "    validate_model = theano.function(\n",
    "        inputs=[index],\n",
    "        outputs=classifier.errors(y),\n",
    "        givens={\n",
    "            x: valid_set_x[index * batch_size:(index + 1) * batch_size],\n",
    "            y: valid_set_y[index * batch_size:(index + 1) * batch_size]\n",
    "        }\n",
    "    )\n",
    "\n",
    "    # start-snippet-5\n",
    "    # compute the gradient of cost with respect to theta (sorted in params)\n",
    "    # the resulting gradients will be stored in a list gparams\n",
    "    gparams = [T.grad(cost, param) for param in classifier.params]\n",
    "\n",
    "    # specify how to update the parameters of the model as a list of\n",
    "    # (variable, update expression) pairs\n",
    "\n",
    "    # given two lists of the same length, A = [a1, a2, a3, a4] and\n",
    "    # B = [b1, b2, b3, b4], zip generates a list C of same size, where each\n",
    "    # element is a pair formed from the two lists :\n",
    "    #    C = [(a1, b1), (a2, b2), (a3, b3), (a4, b4)]\n",
    "    updates = [\n",
    "        (param, param - learning_rate * gparam)\n",
    "        for param, gparam in zip(classifier.params, gparams)\n",
    "    ]\n",
    "\n",
    "    # compiling a Theano function `train_model` that returns the cost, but\n",
    "    # in the same time updates the parameter of the model based on the rules\n",
    "    # defined in `updates`\n",
    "    train_model = theano.function(\n",
    "        inputs=[index],\n",
    "        outputs=cost,\n",
    "        updates=updates,\n",
    "        givens={\n",
    "            x: train_set_x[index * batch_size: (index + 1) * batch_size],\n",
    "            y: train_set_y[index * batch_size: (index + 1) * batch_size]\n",
    "        }\n",
    "    )\n",
    "    # end-snippet-5\n",
    "\n",
    "    ###############\n",
    "    # TRAIN MODEL #\n",
    "    ###############\n",
    "    print('... training')\n",
    "\n",
    "    # early-stopping parameters\n",
    "    patience = 10000  # look as this many examples regardless\n",
    "    patience_increase = 2  # wait this much longer when a new best is\n",
    "                           # found\n",
    "    improvement_threshold = 0.995  # a relative improvement of this much is\n",
    "                                   # considered significant\n",
    "    validation_frequency = min(n_train_batches, patience // 2)\n",
    "                                  # go through this many\n",
    "                                  # minibatche before checking the network\n",
    "                                  # on the validation set; in this case we\n",
    "                                  # check every epoch\n",
    "\n",
    "    best_validation_loss = np.inf\n",
    "    best_iter = 0\n",
    "    test_score = 0.\n",
    "    start_time = timeit.default_timer()\n",
    "\n",
    "    epoch = 0\n",
    "    done_looping = False\n",
    "\n",
    "    while (epoch < n_epochs) and (not done_looping):\n",
    "        epoch = epoch + 1\n",
    "        for minibatch_index in range(n_train_batches):\n",
    "\n",
    "            minibatch_avg_cost = train_model(minibatch_index)\n",
    "            # iteration number\n",
    "            iter = (epoch - 1) * n_train_batches + minibatch_index\n",
    "\n",
    "            if (iter + 1) % validation_frequency == 0:\n",
    "                # compute zero-one loss on validation set\n",
    "                validation_losses = [validate_model(i) for i\n",
    "                                     in range(n_valid_batches)]\n",
    "                this_validation_loss = np.mean(validation_losses)\n",
    "\n",
    "                print(\n",
    "                    'epoch %i, minibatch %i/%i, validation error %f %%' %\n",
    "                    (\n",
    "                        epoch,\n",
    "                        minibatch_index + 1,\n",
    "                        n_train_batches,\n",
    "                        this_validation_loss * 100.\n",
    "                    )\n",
    "                )\n",
    "\n",
    "                # if we got the best validation score until now\n",
    "                if this_validation_loss < best_validation_loss:\n",
    "                    #improve patience if loss improvement is good enough\n",
    "                    if (\n",
    "                        this_validation_loss < best_validation_loss *\n",
    "                        improvement_threshold\n",
    "                    ):\n",
    "                        patience = max(patience, iter * patience_increase)\n",
    "\n",
    "                    best_validation_loss = this_validation_loss\n",
    "                    best_iter = iter\n",
    "\n",
    "                    # test it on the test set\n",
    "                    test_losses = [test_model(i) for i\n",
    "                                   in range(n_test_batches)]\n",
    "                    test_score = np.mean(test_losses)\n",
    "\n",
    "                    print(('     epoch %i, minibatch %i/%i, test error of '\n",
    "                           'best model %f %%') %\n",
    "                          (epoch, minibatch_index + 1, n_train_batches,\n",
    "                           test_score * 100.))\n",
    "\n",
    "            if patience <= iter:\n",
    "                done_looping = True\n",
    "                break\n",
    "\n",
    "    end_time = timeit.default_timer()\n",
    "    print(('Optimization complete. Best validation score of %f %% '\n",
    "           'obtained at iteration %i, with test performance %f %%') %\n",
    "          (best_validation_loss * 100., best_iter + 1, test_score * 100.))\n",
    "\n"
   ]
  },
  {
   "cell_type": "code",
   "execution_count": null,
   "metadata": {
    "collapsed": true
   },
   "outputs": [],
   "source": []
  },
  {
   "cell_type": "code",
   "execution_count": 348,
   "metadata": {
    "collapsed": false
   },
   "outputs": [
    {
     "name": "stdout",
     "output_type": "stream",
     "text": [
      "... building the model\n"
     ]
    }
   ],
   "source": [
    "learning_rate=0.01\n",
    "L1_reg=0.00\n",
    "L2_reg=0.0001 \n",
    "n_epochs=1000 \n",
    "batch_size=20 \n",
    "n_hidden=500\n",
    "bank = pd.read_csv('bank/bank-full.csv',sep=\";\")\n",
    "X = bank.iloc[:,:-1]\n",
    "y = bank['y']\n",
    "y = (y == 'yes')*1\n",
    "X = np.array(X)\n",
    "\n",
    "    ###### convert the categorical data to factors and scale the other variables.\n",
    "for i in range(X.shape[1]):\n",
    "    if len(np.unique(X[:,i]))>10:\n",
    "        if (isinstance(X[2,i], basestring))==True:\n",
    "            bank.iloc[:,i]=bank.iloc[:,i].factorize()[0]\n",
    "        else:\n",
    "            bank.iloc[:,i]= scale(bank.iloc[:,i])\n",
    "    elif (isinstance(X[2,i], basestring))==True:\n",
    "        bank.iloc[:,i]=bank.iloc[:,i].factorize()[0]\n",
    "bank.y=bank.y.factorize()[0]\n",
    "X = bank.iloc[:,:-1]\n",
    "X = np.array(X)\n",
    "\n",
    "\n",
    "X_train, X_test, y_train, y_test = train_test_split(X, y, test_size=.4, random_state=23)\n",
    "X_tr, X_val, y_tr, y_val = train_test_split(X_train, y_train, test_size=.3, random_state=23)\n",
    "\n",
    "train_set_x, train_set_y = X_tr,y_tr\n",
    "valid_set_x, valid_set_y = X_val,y_val\n",
    "test_set_x, test_set_y = X_test,y_test\n",
    "    \n",
    "    # compute number of minibatches for training, validation and testing\n",
    "n_train_batches = train_set_x.shape[0] // batch_size\n",
    "n_valid_batches = valid_set_x.shape[0] // batch_size\n",
    "n_test_batches = test_set_x.shape[0] // batch_size\n",
    "\n",
    "    ######################\n",
    "    # BUILD ACTUAL MODEL #\n",
    "    ######################\n",
    "print('... building the model')\n",
    "\n",
    "    # allocate symbolic variables for the data\n",
    "index = T.lscalar()  # index to a [mini]batch\n",
    "x = T.matrix('x')  # the data is presented as rasterized images\n",
    "y = T.ivector('y')  # the labels are presented as 1D vector of\n",
    "                        # [int] labels\n",
    "\n",
    "rng = np.random.RandomState(23)\n",
    "\n",
    "    # construct the MLP class\n",
    "classifier = MLP(\n",
    "    rng=rng,\n",
    "    input=x,\n",
    "    n_in=28 * 28,\n",
    "    n_hidden=n_hidden,\n",
    "    n_out=3\n",
    ")\n",
    "\n",
    "    # start-snippet-4\n",
    "    # the cost we minimize during training is the negative log likelihood of\n",
    "    # the model plus the regularization terms (L1 and L2); cost is expressed\n",
    "    # here symbolically\n",
    "cost = (\n",
    "    classifier.negative_log_likelihood(y)\n",
    "    + L1_reg * classifier.L1\n",
    "    + L2_reg * classifier.L2_sqr\n",
    ")\n",
    "    # end-snippet-4\n",
    "\n",
    "\n",
    "\n"
   ]
  },
  {
   "cell_type": "code",
   "execution_count": null,
   "metadata": {
    "collapsed": true
   },
   "outputs": [],
   "source": [
    "test_model = theano.function(\n",
    "        inputs=[index],\n",
    "        outputs=classifier.errors(y),\n",
    "        givens={\n",
    "            x: test_set_x[index * batch_size:(index + 1) * batch_size,:],\n",
    "            y: test_set_y[index * batch_size:(index + 1) * batch_size]\n",
    "        }\n",
    "    )"
   ]
  },
  {
   "cell_type": "code",
   "execution_count": null,
   "metadata": {
    "collapsed": true
   },
   "outputs": [],
   "source": []
  },
  {
   "cell_type": "code",
   "execution_count": null,
   "metadata": {
    "collapsed": true
   },
   "outputs": [],
   "source": []
  },
  {
   "cell_type": "code",
   "execution_count": 369,
   "metadata": {
    "collapsed": false
   },
   "outputs": [
    {
     "data": {
      "text/plain": [
       "((27126, 16), 27126)"
      ]
     },
     "execution_count": 369,
     "metadata": {},
     "output_type": "execute_result"
    }
   ],
   "source": [
    "\n",
    "\n",
    "Xdata.shape, ydata.shape[0]"
   ]
  },
  {
   "cell_type": "code",
   "execution_count": 365,
   "metadata": {
    "collapsed": false
   },
   "outputs": [
    {
     "data": {
      "text/plain": [
       "theano.tensor.sharedvar.TensorSharedVariable"
      ]
     },
     "execution_count": 365,
     "metadata": {},
     "output_type": "execute_result"
    }
   ],
   "source": []
  },
  {
   "cell_type": "code",
   "execution_count": 382,
   "metadata": {
    "collapsed": false
   },
   "outputs": [
    {
     "name": "stderr",
     "output_type": "stream",
     "text": [
      "/Users/tutongbi/anaconda/lib/python2.7/site-packages/ipykernel/__main__.py:12: UserWarning: Warning, Cannot compute test value: input 0 (dot.0) of Op sigmoid(dot.0) missing default value\n",
      "/Users/tutongbi/anaconda/lib/python2.7/site-packages/ipykernel/__main__.py:13: UserWarning: Warning, Cannot compute test value: input 0 (sigmoid.0) of Op Elemwise{log,no_inplace}(sigmoid.0) missing default value\n",
      "/Users/tutongbi/anaconda/lib/python2.7/site-packages/ipykernel/__main__.py:13: UserWarning: Warning, Cannot compute test value: input 0 (Elemwise{sub,no_inplace}.0) of Op Elemwise{log,no_inplace}(Elemwise{sub,no_inplace}.0) missing default value\n"
     ]
    }
   ],
   "source": [
    "Xdata=X_train\n",
    "ydata=y_train\n",
    "p = 2\n",
    "H = 4\n",
    "x = T.vector('x')\n",
    "W1 = theano.shared(value = np.random.randn(p*H).reshape((H,p)), name= 'W1')\n",
    "w2 = theano.shared(value = np.random.randn(H), name= 'w2')\n",
    "u1 = T.dot(W1,x)\n",
    "h = T.nnet.relu(u1)\n",
    "u2 = T.dot(h,w2)\n",
    "y = T.scalar('y')\n",
    "prob = T.nnet.sigmoid(u2)\n",
    "R = - y * T.log(prob) - (1 - y) * T.log(1 - prob)\n",
    "\n",
    "\n",
    "w2g = T.grad(R,w2)\n",
    "W1g = T.grad(R,W1)\n",
    "\n",
    "learn_rate = .05\n",
    "\n",
    "W_updates = [(W1, W1 - learn_rate * W1g),\n",
    "            (w2, w2 - learn_rate * w2g)]\n",
    "\n",
    "grad_step = theano.function([x,y],R,updates=W_updates)\n",
    "\n",
    "Xdata.shape, ydata[0]\n",
    "\n",
    "\n",
    "n = Xdata.shape[0]\n",
    "\n"
   ]
  },
  {
   "cell_type": "code",
   "execution_count": null,
   "metadata": {
    "collapsed": true
   },
   "outputs": [],
   "source": []
  },
  {
   "cell_type": "code",
   "execution_count": null,
   "metadata": {
    "collapsed": true
   },
   "outputs": [],
   "source": []
  }
 ],
 "metadata": {
  "anaconda-cloud": {},
  "kernelspec": {
   "display_name": "Python 2",
   "language": "python",
   "name": "python2"
  },
  "language_info": {
   "codemirror_mode": {
    "name": "ipython",
    "version": 2
   },
   "file_extension": ".py",
   "mimetype": "text/x-python",
   "name": "python",
   "nbconvert_exporter": "python",
   "pygments_lexer": "ipython2",
   "version": "2.7.13"
  }
 },
 "nbformat": 4,
 "nbformat_minor": 2
}
