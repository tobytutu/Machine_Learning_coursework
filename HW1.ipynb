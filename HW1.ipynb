{
 "cells": [
  {
   "cell_type": "markdown",
   "metadata": {},
   "source": [
    "# STA 208: Homework 1\n",
    "This is based on the material in Chapters 2, 3 of 'Elements of Statistical Learning' (ESL), in addition to lectures 1-4.  Chunzhe Zhang came up with the dataset and the analysis in the second section."
   ]
  },
  {
   "cell_type": "markdown",
   "metadata": {},
   "source": [
    "## Instructions\n",
    "\n",
    "We use a script that extracts your answers by looking for cells in between the cells containing the exercise statements (beginning with __Exercise X.X__).  So you \n",
    "\n",
    "- MUST add cells in between the exercise statements and add answers within them and\n",
    "- MUST NOT modify the existing cells, particularly not the problem statement\n",
    "\n",
    "To make markdown, please switch the cell type to markdown (from code) - you can hit 'm' when you are in command mode - and use the markdown language.  For a brief tutorial see: https://daringfireball.net/projects/markdown/syntax\n",
    "\n",
    "In the conceptual exercises you should provide an explanation, with math when necessary, for any answers.  When answering with math you should use basic LaTeX, as in \n",
    "$$E(Y|X=x) = \\int_{\\mathcal{Y}} f_{Y|X}(y|x) dy = \\int_{\\mathcal{Y}} \\frac{f_{Y,X}(y,x)}{f_{X}(x)} dy$$\n",
    "for displayed equations, and $R_{i,j} = 2^{-|i-j|}$ for inline equations.  (To see the contents of this cell in markdown, double click on it or hit Enter in escape mode.)  To see a list of latex math symbols see here: http://web.ift.uib.no/Teori/KURS/WRK/TeX/symALL.html"
   ]
  },
  {
   "cell_type": "markdown",
   "metadata": {},
   "source": [
    "# 1. Conceptual Exercises"
   ]
  },
  {
   "cell_type": "markdown",
   "metadata": {},
   "source": [
    "__Exercise 1.1.__ (5 pts) Recall that the Hamming loss for Binary classification ($y \\in \\{0,1\\}$) is \n",
    "$$l(y,\\hat y) = 1\\{y \\ne \\hat y\\} = (y - \\hat y)^2$$\n",
    "as long as $\\hat y \\in \\{0,1\\}$.\n",
    "This loss can be extended to multiclass classification where there are $K$ possible values that $y$ can take (for example 'dog','cat','squirrel' or 1-5 stars).  Explain how you can re-encode $y$ and $\\hat y$ to be a $K-1$ dimensional vector that generalizes binary classification, and rewrite the loss using vector operations."
   ]
  },
  {
   "cell_type": "markdown",
   "metadata": {},
   "source": [
    "### STA 208 HW1 Tongbi Tu 998727547\n",
    "# 1.1 \n",
    "\n",
    "For $K$ possible classes, $y$ and $\\hat y$ can be defined through $K$ dimensional vector that generalizes binary classification as follows: $$y=(y_{1},...,y_{K})^{T},\\hat y=(y_{1},...,y_{K})^{T}$$\n",
    "where $y_{i} \\in \\{0,1\\},i=1,...,K$; $\\sum_{k=1}^{n}y_{i}=1$;\n",
    "$\\hat y_{i} \\in \\{0,1\\},i=1,...,K$; $\\sum_{k=1}^{n}\\hat y_{i}=1$\n",
    "\n",
    "Then the associated loss using vector operations can be written as:\n",
    "$$l(y,\\hat{y})=(y-\\hat{y})^{T}(y-\\hat{y})$$"
   ]
  },
  {
   "cell_type": "markdown",
   "metadata": {},
   "source": [
    "__Exercise 1.2__ (5 pts) Ex. 2.7 in ESL"
   ]
  },
  {
   "cell_type": "markdown",
   "metadata": {},
   "source": [
    "# 1.2\n",
    "\n",
    "## (a)\n",
    "\n",
    "Based on the definition of $k$-nearest-neighbor, the weights for $k$-nearest-neighbor regression can be obtained as:$$\n",
    "l_{i}(x_{0};\\chi)=\\left\\{\n",
    "\\begin{array}{ll}\n",
    "\\frac{1}{k}&x_{0}\\text{ is one of the nearest $k$ points}\\\\\n",
    "0&\\text{otherwise}\n",
    "\\end{array}\n",
    " \\right.\n",
    "$$\n",
    "For linear regression,take the least squares estimators as an exmaple here. Then the prediction for a given $x_{0}$ can be calculated as: $$\\hat{f}(x_{0})=x_{0}^{T}\\hat{\\beta}=x_{0}^{T}(X^{T}X)^{-1}X^{T}y$$ So the corresponding weights can be obtained as:$$l_{i}(x_{0};\\chi)=x_{0}^{T}(X^{T}X)^{-1}X^{T}$$\n",
    "\n",
    "## (b)\n",
    "\n",
    "$$E_{y\\mid{x}}(f(x_{0})-\\hat{f(x_{0})})^{2}=E_{y\\mid{x}}(f(x_{0})^{2}-2f(x_{0})\\hat{f(x_{0})}+\\hat{f(x_{0})}^{2})=(f(x_{0})-E_{y\\mid{x}}(\\hat{f(x_{0}})))^{2}+(E_{y\\mid{x}}\\hat{f(x_{0})}^{2}-(E_{y\\mid{x}}\\hat{f(x_{0})})^2)=(bias_{y\\mid{x}})^{2}+Var_{y\\mid{x}}(\\hat{f(x_{0}}))$$\n",
    "\n",
    "## (c)\n",
    "\n",
    "$$E_{y,x}(f(x_{0})-\\hat{f(x_{0})})^{2}=E_{y,x}(f(x_{0})^{2}-2f(x_{0})\\hat{f(x_{0})}+\\hat{f(x_{0})}^{2})=(f(x_{0})-E_{y,x}(\\hat{f(x_{0}})))^{2}+(E_{y,x}\\hat{f(x_{0})}^{2}-(E_{y,x}\\hat{f(x_{0})})^2)=(bias_{y,x})^{2}+Var_{y,x}(\\hat{f(x_{0}}))$$\n",
    "\n",
    "## (d)\n",
    "\n",
    "Based on Adam's Law and the Law of total variance, \n",
    "$$E_{Y,X}f(\\hat{x_0})=E(E_{Y\\mid{X}}f(\\hat{x_0})$$\n",
    "$$Var_{Y,X}f(\\hat{x_0})=E[Var_{Y\\mid{X}}f(\\hat{x_0}]+Var(E_{Y\\mid{X}}f(\\hat{x_0}))$$\n",
    "So the relationship between (b) and (c) can be established through the two equations above."
   ]
  },
  {
   "cell_type": "markdown",
   "metadata": {},
   "source": [
    "__Exercise 1.3__ (5 pts, 1 for each part) Recall that the true risk for a prediction function, $f$, a loss function, $\\ell$, and a joint distribution for $Y,X$ is \n",
    "$$R(f) = E \\ell(y,f(x))$$\n",
    "For a training set $\\{x_i,y_x\\}_{i=1}^n$, the empirical risk is \n",
    "$$R_n = \\frac{1}{n} \\sum_{i=1}^n \\ell(y_i,f(x_i)).$$\n",
    "Let $y = x^\\top \\beta + \\epsilon$ be a linear model for $Y|X$, where $x,\\beta$ are $p$-dimensional such that $\\epsilon$ is Gaussian with mean 0 and variance $\\sigma^2$ (independent of X).\n",
    "Let $\\ell(y,\\hat y) = (y - \\hat y)^2$ be square error loss.\n",
    "\n",
    "1. Show that $f^\\star(x) = x^\\top \\beta$ gives the smallest true risk (also known as the Bayes rule).\n",
    "1. Why can't we use this prediction in practice?\n",
    "1. Recall that OLS is the empirical risk minimizer for linear functions.  Why does this tell us the following:\n",
    "$$ E R_n (\\hat f) \\le R(f^\\star)$$\n",
    "1. How do we know that $E R_n (\\hat f) \\le R(\\hat f)$? and use this to answer Ex. 2.9 in ESL.  \n",
    "1. What about this was specific to OLS and least squares loss (can this be generalized)?  What is the most general statement that you can think of that you can prove in this way?"
   ]
  },
  {
   "cell_type": "markdown",
   "metadata": {},
   "source": [
    "# 1.3\n",
    "\n",
    "## (1)\n",
    "\n",
    "$$\\underset{\\hat{y}}{\\operatorname{argmin}}E((y-\\hat{y})\\mid{X})^2=E(y\\mid{X})=E(x^{T}\\beta+\\epsilon)=x^{T}\\beta=f^{*}(x)$$\n",
    "So $f^{*}(x)=x^{T}\\beta$ gives the smallest true risk.\n",
    "\n",
    "## (2)\n",
    "\n",
    "As in practice, the whole dataset is unknown and only sample dataset can be obtained. So the true {\\beta} cannot be obtained. Thus, $f^{*}(x)=x^{T}\\beta$ cannot be used in practice.\n",
    "\n",
    "## (3)\n",
    "OLS is the empirical risk minimizer for linear function, the corresponding empirical risk is:\n",
    "$$ER_{n}(\\hat{f})=E(\\frac{1}{n}\\sum_{i=1}^{n}(y-\\hat{f})^2)=\\frac{1}{n}n\\sigma^2=\\sigma^2$$\n",
    "$$R(f^*)=E(y-\\hat{y})^2=E(x_{0}^{T}\\beta+\\epsilon_{0}-x_{0}^T\\beta)^2$$\n",
    "$$E(\\epsilon_{0}^2)=\\sigma^2$$\n",
    "\n",
    "Therefore,$ER_{n}(\\hat{f})\\le R(f^*)$ is obtained.\n",
    "\n",
    "## (4)\n",
    "\n",
    "$$R(\\hat{f})=E(y-\\hat{y})^2=E_{y_0\\mid{x_0}}E_{T}(y_0-\\hat{y_{0}})^2=Var(y_0\\mid{x_0})+Var_T(\\hat{y_0})+Bias^2(\\hat{y_0})=\\sigma^2+E_{T}x^{T}_{0}(X^TX)^{-1}x_{0}\\sigma^2+0^2\\ge\\sigma^2$$\n",
    "\n",
    "Or the prove can be completed as: from (1) we get that $R(f^*)$ denotes the smalllest true risk; from (3) we have $ER_{n}(\\hat{f})\\le R(f^*)$. Then $ER_{n}(\\hat{f})\\le R(f^*)\\le R(\\hat{f})$.\n",
    "\n",
    "So this proves Ex. 2.9, i.e.. the expected empirical risk $ER_{n}(\\hat{f})=E[R_{tr}(\\hat{\\beta})]$is no greater than the expected prediction error $R(\\hat{f})=E[R_{te}(\\hat{\\beta})]$.\n",
    "\n",
    "## (5)\n",
    "\n",
    "For OLS and least squares loss,the empirical risk is no larger than the expected prediction error. To be more general,this can be related to the Gauss-Markov theorem, i.e., the least squares estimate has variance no bigger than that of any other liner unbiased estimate.\n",
    "\n"
   ]
  },
  {
   "cell_type": "markdown",
   "metadata": {},
   "source": [
    "__Exercise 1.4__ (5 pts) Ex. 3.5 in ESL"
   ]
  },
  {
   "cell_type": "markdown",
   "metadata": {},
   "source": [
    "# 1.4\n",
    "From the ridge regression equation (3.41) $$\\hat{\\beta^{ridge}}=\\underset{\\beta}{\\operatorname{argmin}}[\\sum_{i=1}^{N}(y_{i}-\\beta_{0}-\\sum_{j=1}^{p}x_{ij}\\beta_{j})^2+\\lambda\\sum_{j=1}^p\\beta_{j}^2]$$\n",
    "\n",
    "Take $$L_1=\\sum_{i=1}^{N}(y_{i}-\\beta_{0}-\\sum_{j=1}^{p}x_{ij}\\beta_{j})^2+\\lambda\\sum_{j=1}^p\\beta_{j}^2$$Then\n",
    "$$L_1=\\sum_{i=1}^{N}(y_{i}-\\beta_{0}-\\sum_{j=1}^{p}(x_{ij}+(\\bar{x_j}-\\bar{x_j}))\n",
    "\\beta_{j})^2+\\lambda\\sum_{j=1}^p\\beta_{j}^2=\\sum_{i=1}^{N}(y_{i}-\\beta_{0}-\\sum_{j=1}^{p}\\bar{x_j}\\beta_{j}-\\sum_{j=1}^{p}(x_{ij}-\\bar{x_j})\\beta_{j})^2+\\lambda\\sum_{j=1}^p\\beta_{j}^2$$\n",
    "\n",
    "Next, take $\\beta_{0}^{c}=\\beta_{0}+\\sum_{j=1}^{p}\\bar{x_j}\\beta_{j};\\beta_{j}^c=\\beta_{i},i=1,\\dots,p$ Then $L_1$ can be written as:$$L_2=\\sum_{i=1}^{N}\\big(y_i-\\beta_{0}^c-\\sum_{j=1}^p(x_{ij}-\\bar{x_j})\\beta_{j}^c\\big)^2+\\lambda\\sum_{j=1}^p{\\beta_{j}^c}^2$$\n",
    "So if $\\beta_i$ minimize $L_1$, $\\beta_j^c$will also minimize $L_2$. Therefore, the equivalence is established. So compared with the solutions to the original equation (3.41), $\\beta_{j}^c,j=1,\\dots,p$ of the solution to the modified equation remained unchanged and only  $\\beta_{0}^c$ shifted from the original $\\beta_{0}$,i.e., the solution does not depend on the measurement scale.\n",
    "\n",
    "For the Lasso regression,\n",
    "\n",
    " $$\\hat{\\beta^{lasso}}=\\underset{\\beta}{\\operatorname{argmin}}[\\sum_{i=1}^{N}(y_{i}-\\beta_{0}-\\sum_{j=1}^{p}x_{ij}\\beta_{j})^2]$$\n",
    " Similarily,\n",
    " $$\\hat{\\beta_c^{lasso}}=\\underset{\\beta_c}{\\operatorname{argmin}}[\\sum_{i=1}^{N}(y_{i}-\\beta_{0}^c-\\sum_{j=1}^{p}(x_{ij}-\\bar{x}_j)\\beta_{j})^2]$$\n",
    " The equivalence between the modified equation and the original equation for lasso regression is formulated. So a similar result holds for the lasso.\n"
   ]
  },
  {
   "cell_type": "markdown",
   "metadata": {},
   "source": [
    "__Exercise 1.5__ (5 pts) Ex 3.9 in ESL"
   ]
  },
  {
   "cell_type": "markdown",
   "metadata": {},
   "source": [
    "# 1.5\n",
    "\n",
    "An efficient procedure for implementing the Forward stepwise regression can be described as follows:\n",
    "\n",
    "To pick the next candidate predictor $x_j$ from the $p-q$ possible predictors, the selected predictor should be the one that had the largest projection in the direction of $\\gamma$. The new vector $x_{j'}$ where $$x_{j'}=\\underset{j=q+1,\\dots,p}{\\operatorname{argmin}}\\big|<\\frac {x_q}{||x_q||},\\gamma>\\big|$$\n",
    "This way can select the predictor that explains the maximal amount of variance in $\\gamma$ when $X_1$ is included. Consequently, the residual sum of squares is reduced to the most. Then repeat the above procedure by updating $X_2$ based on Algorithm 3.1 that is reported in the book on Page 54, until the desired number of predictors is achieved."
   ]
  },
  {
   "cell_type": "markdown",
   "metadata": {},
   "source": [
    "# 2. Data Analysis"
   ]
  },
  {
   "cell_type": "markdown",
   "metadata": {},
   "source": [
    "## Instructions\n",
    "\n",
    "You will be graded based on several criteria, and each is on a 5 point scale (5 is excellent - A - 1 is poor - C - 0 is not answered - D/F).  You should strive to 'impress us' if you want a 5.  This means excellent code, well explained conclusions, well annotated plots, correct answers, etc.\n",
    "\n",
    "We will be grading you on several criteria:\n",
    "\n",
    "- Conclusions: Conclusions should be consistent with the evidence provided, the conclusion should be well justified, the principles of machine learning that you have learned should be respected (such as overfitting and underfitting etc.)\n",
    "- Correctness of calculations: code should be correct and reflect the principles learned in this course, the logic should be sound, the methods should match the setting and context, you should try many applicable methods that you have learned as long as they apply. \n",
    "- Code, Figures, and Text: Code should be annotated and easy to follow, with docstrings on the functions; captions, titles,  for figures "
   ]
  },
  {
   "cell_type": "markdown",
   "metadata": {},
   "source": [
    "__Exercise 2__ You should run the following code cells to import the code and reduce the variable set.  Address the questions after the code."
   ]
  },
  {
   "cell_type": "code",
   "execution_count": 1,
   "metadata": {
    "collapsed": true
   },
   "outputs": [],
   "source": [
    "import numpy as np\n",
    "import pandas as pd\n",
    "import matplotlib.pyplot as plt\n",
    "from sklearn.model_selection import LeaveOneOut\n",
    "from sklearn import linear_model, neighbors\n",
    "%matplotlib inline\n",
    "plt.style.use('ggplot')\n",
    "\n",
    "# dataset path\n",
    "data_dir = \".\""
   ]
  },
  {
   "cell_type": "code",
   "execution_count": 2,
   "metadata": {
    "collapsed": false
   },
   "outputs": [
    {
     "data": {
      "text/html": [
       "<div>\n",
       "<table border=\"1\" class=\"dataframe\">\n",
       "  <thead>\n",
       "    <tr style=\"text-align: right;\">\n",
       "      <th></th>\n",
       "      <th>quality</th>\n",
       "      <th>density</th>\n",
       "      <th>pH</th>\n",
       "      <th>alcohol</th>\n",
       "      <th>time</th>\n",
       "    </tr>\n",
       "  </thead>\n",
       "  <tbody>\n",
       "    <tr>\n",
       "      <th>0</th>\n",
       "      <td>90.0</td>\n",
       "      <td>0.99780</td>\n",
       "      <td>3.51</td>\n",
       "      <td>9.4</td>\n",
       "      <td>5</td>\n",
       "    </tr>\n",
       "    <tr>\n",
       "      <th>1</th>\n",
       "      <td>68.5</td>\n",
       "      <td>0.99620</td>\n",
       "      <td>3.26</td>\n",
       "      <td>10.0</td>\n",
       "      <td>4</td>\n",
       "    </tr>\n",
       "    <tr>\n",
       "      <th>2</th>\n",
       "      <td>110.0</td>\n",
       "      <td>0.99630</td>\n",
       "      <td>3.25</td>\n",
       "      <td>9.2</td>\n",
       "      <td>5</td>\n",
       "    </tr>\n",
       "    <tr>\n",
       "      <th>3</th>\n",
       "      <td>71.5</td>\n",
       "      <td>0.99551</td>\n",
       "      <td>3.56</td>\n",
       "      <td>10.8</td>\n",
       "      <td>5</td>\n",
       "    </tr>\n",
       "    <tr>\n",
       "      <th>4</th>\n",
       "      <td>110.0</td>\n",
       "      <td>0.99600</td>\n",
       "      <td>3.28</td>\n",
       "      <td>9.8</td>\n",
       "      <td>6</td>\n",
       "    </tr>\n",
       "  </tbody>\n",
       "</table>\n",
       "</div>"
      ],
      "text/plain": [
       "   quality  density    pH  alcohol  time\n",
       "0     90.0  0.99780  3.51      9.4     5\n",
       "1     68.5  0.99620  3.26     10.0     4\n",
       "2    110.0  0.99630  3.25      9.2     5\n",
       "3     71.5  0.99551  3.56     10.8     5\n",
       "4    110.0  0.99600  3.28      9.8     6"
      ]
     },
     "execution_count": 2,
     "metadata": {},
     "output_type": "execute_result"
    }
   ],
   "source": [
    "sample_data = pd.read_csv(data_dir+\"/hw1.csv\", delimiter=',')\n",
    "sample_data.head()"
   ]
  },
  {
   "cell_type": "markdown",
   "metadata": {},
   "source": [
    "The response variable is quality. "
   ]
  },
  {
   "cell_type": "code",
   "execution_count": 3,
   "metadata": {
    "collapsed": false
   },
   "outputs": [],
   "source": [
    "X = np.array(sample_data.iloc[:,range(1,5)])\n",
    "y = np.array(sample_data.iloc[:,0])"
   ]
  },
  {
   "cell_type": "code",
   "execution_count": 4,
   "metadata": {
    "collapsed": true
   },
   "outputs": [],
   "source": [
    "def loo_risk(X,y,regmod):\n",
    "    \"\"\"\n",
    "    Construct the leave-one-out square error risk for a regression model\n",
    "    \n",
    "    Input: design matrix, X, response vector, y, a regression model, regmod\n",
    "    Output: scalar LOO risk\n",
    "    \"\"\"\n",
    "    loo = LeaveOneOut()\n",
    "    loo_losses = []\n",
    "    for train_index, test_index in loo.split(X):\n",
    "        X_train, X_test = X[train_index], X[test_index]\n",
    "        y_train, y_test = y[train_index], y[test_index]\n",
    "        regmod.fit(X_train,y_train)\n",
    "        y_hat = regmod.predict(X_test)\n",
    "        loss = np.sum((y_hat - y_test)**2)\n",
    "        loo_losses.append(loss)\n",
    "    return np.mean(loo_losses)\n",
    "\n",
    "def emp_risk(X,y,regmod):\n",
    "    \"\"\"\n",
    "    Return the empirical risk for square error loss\n",
    "    \n",
    "    Input: design matrix, X, response vector, y, a regression model, regmod\n",
    "    Output: scalar empirical risk\n",
    "    \"\"\"\n",
    "    regmod.fit(X,y)\n",
    "    y_hat = regmod.predict(X)\n",
    "    return np.mean((y_hat - y)**2)"
   ]
  },
  {
   "cell_type": "markdown",
   "metadata": {},
   "source": [
    "__Exercise 2.1__ (5 pts) Compare the leave-one-out risk with the empirical risk for linear regression, on this dataset."
   ]
  },
  {
   "cell_type": "code",
   "execution_count": 7,
   "metadata": {
    "collapsed": false
   },
   "outputs": [
    {
     "name": "stdout",
     "output_type": "stream",
     "text": [
      "LOO Risk: 243.53350804\n",
      "Emp Risk: 242.27402643\n"
     ]
    }
   ],
   "source": [
    "## 2.1\n",
    "lin1 = linear_model.LinearRegression(fit_intercept=False)\n",
    "print('LOO Risk: '+ str(loo_risk(X,y,lin1)))\n",
    "print('Emp Risk: ' + str(emp_risk(X,y,lin1)))"
   ]
  },
  {
   "cell_type": "markdown",
   "metadata": {},
   "source": [
    "The results indicate that the leave-one-out risk is slightly larger than the empirical risk."
   ]
  },
  {
   "cell_type": "markdown",
   "metadata": {},
   "source": [
    "__Exercise 2.2__ (10 pts) Perform kNN regression and compare the leave-one-out risk with the empirical risk for k from 1 to 50.  Remark on the tradeoff between bias and variance for this dataset and compare against linear regression."
   ]
  },
  {
   "cell_type": "code",
   "execution_count": 10,
   "metadata": {
    "collapsed": false
   },
   "outputs": [
    {
     "data": {
      "image/png": "[encoded data removed]",
      "text/plain": [
       "<matplotlib.figure.Figure at 0x1126569d0>"
      ]
     },
     "metadata": {},
     "output_type": "display_data"
    }
   ],
   "source": [
    "LOOs = []\n",
    "MSEs = []\n",
    "K=50\n",
    "Ks = range(1,K+1)\n",
    "for k in Ks:\n",
    "    knn = neighbors.KNeighborsRegressor(n_neighbors=k)\n",
    "    LOOs.append(loo_risk(X,y,knn))\n",
    "    MSEs.append(emp_risk(X,y,knn))\n",
    "\n",
    "plt.plot(Ks,LOOs,'r',label=\"LOO risk\")\n",
    "plt.title(\"Risks for kNN Regression\")\n",
    "plt.plot(Ks,MSEs,'b',label=\"Emp risk\")\n",
    "plt.legend()\n",
    "_ = plt.xlabel('k')"
   ]
  },
  {
   "cell_type": "markdown",
   "metadata": {},
   "source": [
    "The results of the risks for KNN regression indicate the variance dominates for smaller k and after k is greater than 20, LOO risk turns to be stable.LOO risk is always larger than empirical risk. The performance is somewhat better for k around 15. This demonstrates that Empirical risk can be trustable especially after k is greater than 40. The KNN regression outperms the linear regression, compared the LOO risk of KNN regression with that of linear regression(LOO=243.53350804)."
   ]
  },
  {
   "cell_type": "markdown",
   "metadata": {},
   "source": [
    "__Exercise 2.3__ (10 pts) Implement forward stepwise regression (ESL section 3.3.2) for the linear model and compare the LOO risk for each stage.  Recall that at each step forward stepwise regression will select a new variable that most improves the empirical risk and include that in the model (starting with the intercept)."
   ]
  },
  {
   "cell_type": "code",
   "execution_count": null,
   "metadata": {
    "collapsed": true
   },
   "outputs": [],
   "source": []
  },
  {
   "cell_type": "code",
   "execution_count": 39,
   "metadata": {
    "collapsed": false
   },
   "outputs": [],
   "source": [
    "def forwardstep(X,y,regmod):\n",
    "    \"\"\"\n",
    "    Return LOO and number of variables in the regression model based on\n",
    "            forward stepwise regression \n",
    "    Input: design matrix, X, response vector, y, a regression model, regmod\n",
    "    Output: leave-one-out risk;  and number of X features\n",
    "    \"\"\"\n",
    "    LOOs=[]\n",
    "    x1=[] # start from intercept\n",
    "    n,p=X.shape\n",
    "    x2=range(0,p) # potential condidate X\n",
    "    while len(x2)>0:\n",
    "        mse=[]\n",
    "        for i in x2:\n",
    "            x1_t=X[:,x1+[i]]\n",
    "            mse.append(emp_risk(x1_t,y,regmod))\n",
    "        x1.append(x2[mse.index(min(mse))])\n",
    "        #x2=x2.drop(x2.columns([mse_temp.index(min(mse_temp))]),axis=1)\n",
    "        del x2[mse.index(min(mse))]\n",
    "        LOOs.append(loo_risk(X[:,x1],y,regmod))\n",
    "    results=np.concatenate((LOOs,x1),axis=0)\n",
    "    results=np.reshape(results,(2,p))\n",
    "    return results"
   ]
  },
  {
   "cell_type": "code",
   "execution_count": 40,
   "metadata": {
    "collapsed": false
   },
   "outputs": [
    {
     "data": {
      "text/plain": [
       "array([[ 0.85322318,  0.80952469,  0.80266804,  0.80373347],\n",
       "       [ 3.        ,  1.        ,  2.        ,  0.        ]])"
      ]
     },
     "execution_count": 40,
     "metadata": {},
     "output_type": "execute_result"
    }
   ],
   "source": [
    "from sklearn.preprocessing import scale \n",
    "xs=scale(X)\n",
    "ys=scale(y)\n",
    "model = linear_model.LinearRegression(fit_intercept=False)\n",
    "forwardstep(xs,ys,model)"
   ]
  },
  {
   "cell_type": "code",
   "execution_count": 41,
   "metadata": {
    "collapsed": false
   },
   "outputs": [
    {
     "data": {
      "text/plain": [
       "array([[ 303.59878287,  258.68779755,  245.93873129,  243.53350804],\n",
       "       [   0.        ,    3.        ,    1.        ,    2.        ]])"
      ]
     },
     "execution_count": 41,
     "metadata": {},
     "output_type": "execute_result"
    }
   ],
   "source": [
    "forwardstep(X,y,model)"
   ]
  },
  {
   "cell_type": "markdown",
   "metadata": {},
   "source": [
    "The LOO risk through each step indicates that the scale of the variables directly relate to the final selection. For unscaled dataset,after the first X density is included, LOO is 303.59878; then time,pH and alcohol are selected in the model step by step. The corresponding LOO is 258.68779,245.93873 and 243.5335 respectively."
   ]
  }
 ],
 "metadata": {
  "anaconda-cloud": {},
  "kernelspec": {
   "display_name": "Python 2",
   "language": "python",
   "name": "python2"
  },
  "language_info": {
   "codemirror_mode": {
    "name": "ipython",
    "version": 2
   },
   "file_extension": ".py",
   "mimetype": "text/x-python",
   "name": "python",
   "nbconvert_exporter": "python",
   "pygments_lexer": "ipython2",
   "version": "2.7.13"
  }
 },
 "nbformat": 4,
 "nbformat_minor": 2
}
