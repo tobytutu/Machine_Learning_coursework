{
 "cells": [
  {
   "cell_type": "markdown",
   "metadata": {},
   "source": [
    "# STA 208: Homework 2\n",
    "This is based on the material in Chapters 3, 4.4 of 'Elements of Statistical Learning' (ESL), in addition to lectures 4-6.  Chunzhe Zhang came up with the dataset and the analysis in the second section."
   ]
  },
  {
   "cell_type": "markdown",
   "metadata": {},
   "source": [
    "## Instructions\n",
    "\n",
    "We use a script that extracts your answers by looking for cells in between the cells containing the exercise statements (beginning with __Exercise X.X__).  So you \n",
    "\n",
    "- MUST add cells in between the exercise statements and add answers within them and\n",
    "- MUST NOT modify the existing cells, particularly not the problem statement\n",
    "\n",
    "To make markdown, please switch the cell type to markdown (from code) - you can hit 'm' when you are in command mode - and use the markdown language.  For a brief tutorial see: https://daringfireball.net/projects/markdown/syntax\n",
    "\n",
    "In the conceptual exercises you should provide an explanation, with math when necessary, for any answers.  When answering with math you should use basic LaTeX, as in \n",
    "$$E(Y|X=x) = \\int_{\\mathcal{Y}} f_{Y|X}(y|x) dy = \\int_{\\mathcal{Y}} \\frac{f_{Y,X}(y,x)}{f_{X}(x)} dy$$\n",
    "for displayed equations, and $R_{i,j} = 2^{-|i-j|}$ for inline equations.  (To see the contents of this cell in markdown, double click on it or hit Enter in escape mode.)  To see a list of latex math symbols see here: http://web.ift.uib.no/Teori/KURS/WRK/TeX/symALL.html"
   ]
  },
  {
   "cell_type": "markdown",
   "metadata": {},
   "source": [
    "# 1. Conceptual Exercises"
   ]
  },
  {
   "cell_type": "markdown",
   "metadata": {},
   "source": [
    "__Exercise 1.1.__ (5 pts) Ex. 3.29 in ESL "
   ]
  },
  {
   "cell_type": "markdown",
   "metadata": {},
   "source": [
    "### Exercise 1.1\n",
    "Given $X_1=X_{n\\times1}$, then $a=\\hat {\\beta_1}=(X_1^TX_1+\\lambda I)^{-1}X_1^{T}Y$. By copying $X^*=X$, the new fitted ridge regression coefficient can be written as:\n",
    "$$\\hat {\\beta_2}=\\left[\\left[\\begin{array}{cc}X^TX&X^TX\\\\X^TX&X^TX \\end{array}\\right]+\\lambda I\\right]^{-1} \\left[\\begin{array}{c}X^TY\\\\X^TY\\end{array}\\right]$$\n",
    "Take $Z=X^TX$,$$\\hat {\\beta_2}=\\left[\\begin{array}{cc}Z+\\lambda&Z\\\\Z&Z+\\lambda \\end{array}\\right]^{-1} \\left[\\begin{array}{c}X^TY\\\\X^TY\\end{array}\\right]=\\frac{1}{\\lambda^2+2\\lambda Z}\\left[\\begin{array}{c}X^TY\\\\X^TY\\end{array}\\right]$$\n",
    "So both efficients are identical and the coefficients are $\\frac{X^TY}{\\lambda^2+2\\lambda Z}$.\n",
    "\n",
    "For $m$ copies of a variable $X_j$ are included in a ridge regression, $\\left[\\begin{array}{cccc}X,&X,&\\dots,&X\\end{array}\\right]_{n\\times m}$, the corresponding ridge coefficients $\\hat \\beta=\\left[\\begin{array}{cccc}\\hat {\\beta_1},&{\\hat \\beta_2},&\\dots,&{\\hat \\beta_n}\\end{array}\\right]$. Using a heuristic manner as follows: first we interchange the $X_i$ and $X_j$, for $i,j=1,2,\\dots,n$, next implement the ridge regression for the new modifed $X$ matrix. Since all the columns are the same, the modified regression coefficients should remain constant.Hence, the proof is completed.\n",
    "\n"
   ]
  },
  {
   "cell_type": "markdown",
   "metadata": {},
   "source": [
    "__Exercise 1.2__ (5 pts) Ex. 3.30 in ESL"
   ]
  },
  {
   "cell_type": "markdown",
   "metadata": {},
   "source": [
    "### Exercise 1.2\n",
    "\n",
    "In this problem, $X$ is augmented with a $p\\times p$ Identity matrix. The argumented matrix is: $X_{new}=\\left[\\begin{array}{c}X\\\\\\gamma I\\end{array}\\right]$. Accordingly,$X_{new}\\beta=\\left[\\begin{array}{c}X\\beta\\\\\\gamma\\beta\\end{array}\\right]$. The response matrix $y$ is augmented with $p$ zeros as:  $y_{new}=\\left[\\begin{array}{c}y\\\\0\\end{array}\\right]$. Then $$||y_{new}-X_{new}\\beta||_2^2=||y-X\\beta||_2^2+\\gamma^2||\\beta||_2^2$$\n",
    "So the lasso solution of the augmented version of $X$ and $y$ is:$$\\hat{\\beta}=\\underset{\\beta}{\\operatorname{argmin}}(||y_{new}-X_{new}\\beta||_2^2+\\lambda_{new}||\\beta||_1)$$\n",
    "Compared to the solution with the original variable $$\\hat{\\beta}=\\underset{\\beta}{\\operatorname{argmin}}(||y-X\\beta||_2^2+\\gamma^{2}||\\beta||_2^2+\\lambda_{new}||\\beta||_1)$$\n",
    "\n",
    "Take $\\gamma^2=\\lambda\\alpha$ and $\\lambda_{new}=\\lambda (1-\\alpha)$. Incorporating these relationships with the lasso solution, the following can be obtained:$$\\hat{\\beta}=\\underset{\\beta}{\\operatorname{argmin}}(||y-X\\beta||_2^2+\\lambda\\left[\\alpha||\\beta||_2^2+\\left(1-\\alpha\\right)||\\beta||_1)\\right]$$\n",
    "Thus, the desired solution is obtained.\n",
    "\n"
   ]
  },
  {
   "cell_type": "markdown",
   "metadata": {},
   "source": [
    "__Exercise 1.3__ (5 pts) $Y \\in \\{0,1\\}$ follows an exponential family model with natural parameter $\\eta$ if\n",
    "$$P(Y=y) = \\exp\\left( y \\eta - \\psi(\\eta) \\right).$$\n",
    "Show that when $\\eta = x^\\top \\beta$ then $Y$ follows a logistic regression model."
   ]
  },
  {
   "cell_type": "markdown",
   "metadata": {},
   "source": [
    "### Exercise 1.3\n",
    "\n",
    "In this problem, the following probability with $\\eta=x^T\\beta$ can be obtained:\n",
    "$$P(Y=0)=exp\\left(-\\psi\\left(\\eta\\right)\\right);$$\n",
    "$$P(Y=1)=exp\\left(\\eta-\\psi\\left(\\eta\\right)\\right)$$\n",
    "Given $P(Y=0)+P(Y=1)=1$, we can get $\\psi\\left(\\eta\\right)=\\ln{\\left[1+exp\\left(\\eta\\right)\\right]}.$\n",
    "$$\\frac{P\\left(Y=1\\right)}{P\\left(Y=0\\right)}=exp\\left[\\eta-\\psi\\left(\\eta\\right)+\\psi\\left(\\eta\\right)\\right]=exp\\left(\\eta\\right)=exp\\left(x^T\\beta\\right).$$ Then$$\\ln{\\frac{P\\left(Y=1\\right)}{P\\left(Y=0\\right)}}=\\eta=x^T\\beta $$\n",
    "Therefore, $Y$ follows a logistic regression model given $\\eta=x^T\\beta$."
   ]
  },
  {
   "cell_type": "markdown",
   "metadata": {},
   "source": [
    "# 2. Data Analysis"
   ]
  },
  {
   "cell_type": "code",
   "execution_count": 1,
   "metadata": {
    "collapsed": false
   },
   "outputs": [],
   "source": [
    "import numpy as np\n",
    "import pandas as pd\n",
    "\n",
    "# dataset path\n",
    "data_dir = \".\""
   ]
  },
  {
   "cell_type": "markdown",
   "metadata": {},
   "source": [
    "Load the following medical dataset with 750 patients. The response variable is survival dates (Y), the predictors are 104 measurements measured at a specific time (numerical variables have been standardized)."
   ]
  },
  {
   "cell_type": "code",
   "execution_count": 4,
   "metadata": {
    "collapsed": false
   },
   "outputs": [],
   "source": [
    "sample_data = pd.read_csv(data_dir+\"/hw2.csv\", delimiter=',')"
   ]
  },
  {
   "cell_type": "code",
   "execution_count": 5,
   "metadata": {
    "collapsed": false
   },
   "outputs": [
    {
     "data": {
      "text/html": [
       "<div>\n",
       "<table border=\"1\" class=\"dataframe\">\n",
       "  <thead>\n",
       "    <tr style=\"text-align: right;\">\n",
       "      <th></th>\n",
       "      <th>Y</th>\n",
       "      <th>V1</th>\n",
       "      <th>V2</th>\n",
       "      <th>V3</th>\n",
       "      <th>V4</th>\n",
       "      <th>V5</th>\n",
       "      <th>V6</th>\n",
       "      <th>V7</th>\n",
       "      <th>V8</th>\n",
       "      <th>V9</th>\n",
       "      <th>...</th>\n",
       "      <th>V95</th>\n",
       "      <th>V96</th>\n",
       "      <th>V97</th>\n",
       "      <th>V98</th>\n",
       "      <th>V99</th>\n",
       "      <th>V100</th>\n",
       "      <th>V101</th>\n",
       "      <th>V102</th>\n",
       "      <th>V103</th>\n",
       "      <th>V104</th>\n",
       "    </tr>\n",
       "  </thead>\n",
       "  <tbody>\n",
       "    <tr>\n",
       "      <th>0</th>\n",
       "      <td>1498</td>\n",
       "      <td>No</td>\n",
       "      <td>0.171838</td>\n",
       "      <td>-0.081764</td>\n",
       "      <td>-1.448868</td>\n",
       "      <td>-1.302547</td>\n",
       "      <td>-0.143061</td>\n",
       "      <td>-0.339784</td>\n",
       "      <td>-1.206475</td>\n",
       "      <td>0.444493</td>\n",
       "      <td>...</td>\n",
       "      <td>-1.379066</td>\n",
       "      <td>0.420436</td>\n",
       "      <td>-0.827446</td>\n",
       "      <td>0.318695</td>\n",
       "      <td>-0.787409</td>\n",
       "      <td>0.351406</td>\n",
       "      <td>-0.836107</td>\n",
       "      <td>0.015502</td>\n",
       "      <td>0.435444</td>\n",
       "      <td>-0.879906</td>\n",
       "    </tr>\n",
       "    <tr>\n",
       "      <th>1</th>\n",
       "      <td>334</td>\n",
       "      <td>Yes</td>\n",
       "      <td>-0.605767</td>\n",
       "      <td>-0.584360</td>\n",
       "      <td>-0.485169</td>\n",
       "      <td>-0.848111</td>\n",
       "      <td>-0.493546</td>\n",
       "      <td>-0.392332</td>\n",
       "      <td>-0.239788</td>\n",
       "      <td>0.421697</td>\n",
       "      <td>...</td>\n",
       "      <td>0.398840</td>\n",
       "      <td>-0.434789</td>\n",
       "      <td>-0.698862</td>\n",
       "      <td>1.387219</td>\n",
       "      <td>0.948456</td>\n",
       "      <td>0.191397</td>\n",
       "      <td>1.451699</td>\n",
       "      <td>-1.243616</td>\n",
       "      <td>-0.699072</td>\n",
       "      <td>1.751434</td>\n",
       "    </tr>\n",
       "    <tr>\n",
       "      <th>2</th>\n",
       "      <td>845</td>\n",
       "      <td>Yes</td>\n",
       "      <td>-0.266330</td>\n",
       "      <td>-0.126965</td>\n",
       "      <td>0.138401</td>\n",
       "      <td>0.262732</td>\n",
       "      <td>-0.202438</td>\n",
       "      <td>0.397194</td>\n",
       "      <td>0.137790</td>\n",
       "      <td>0.047847</td>\n",
       "      <td>...</td>\n",
       "      <td>-0.450999</td>\n",
       "      <td>-0.627830</td>\n",
       "      <td>0.677158</td>\n",
       "      <td>-0.140255</td>\n",
       "      <td>-0.798641</td>\n",
       "      <td>-0.972419</td>\n",
       "      <td>-0.852035</td>\n",
       "      <td>0.080914</td>\n",
       "      <td>-1.906252</td>\n",
       "      <td>0.705509</td>\n",
       "    </tr>\n",
       "    <tr>\n",
       "      <th>3</th>\n",
       "      <td>1484</td>\n",
       "      <td>No</td>\n",
       "      <td>0.113498</td>\n",
       "      <td>0.893293</td>\n",
       "      <td>-0.825298</td>\n",
       "      <td>-0.444168</td>\n",
       "      <td>0.756242</td>\n",
       "      <td>0.179122</td>\n",
       "      <td>-1.145078</td>\n",
       "      <td>-1.471261</td>\n",
       "      <td>...</td>\n",
       "      <td>0.316312</td>\n",
       "      <td>0.131010</td>\n",
       "      <td>0.878134</td>\n",
       "      <td>-0.306249</td>\n",
       "      <td>-1.263270</td>\n",
       "      <td>1.316120</td>\n",
       "      <td>-0.999717</td>\n",
       "      <td>1.104161</td>\n",
       "      <td>-0.234038</td>\n",
       "      <td>-0.083488</td>\n",
       "    </tr>\n",
       "    <tr>\n",
       "      <th>4</th>\n",
       "      <td>301</td>\n",
       "      <td>Yes</td>\n",
       "      <td>-0.620454</td>\n",
       "      <td>-0.608036</td>\n",
       "      <td>-0.088352</td>\n",
       "      <td>0.111253</td>\n",
       "      <td>-0.598898</td>\n",
       "      <td>-0.513191</td>\n",
       "      <td>0.753000</td>\n",
       "      <td>1.055418</td>\n",
       "      <td>...</td>\n",
       "      <td>0.364884</td>\n",
       "      <td>0.251667</td>\n",
       "      <td>0.373787</td>\n",
       "      <td>-0.354599</td>\n",
       "      <td>0.085019</td>\n",
       "      <td>1.207509</td>\n",
       "      <td>-0.762206</td>\n",
       "      <td>-0.067318</td>\n",
       "      <td>0.158247</td>\n",
       "      <td>0.592638</td>\n",
       "    </tr>\n",
       "  </tbody>\n",
       "</table>\n",
       "<p>5 rows × 105 columns</p>\n",
       "</div>"
      ],
      "text/plain": [
       "      Y   V1        V2        V3        V4        V5        V6        V7  \\\n",
       "0  1498   No  0.171838 -0.081764 -1.448868 -1.302547 -0.143061 -0.339784   \n",
       "1   334  Yes -0.605767 -0.584360 -0.485169 -0.848111 -0.493546 -0.392332   \n",
       "2   845  Yes -0.266330 -0.126965  0.138401  0.262732 -0.202438  0.397194   \n",
       "3  1484   No  0.113498  0.893293 -0.825298 -0.444168  0.756242  0.179122   \n",
       "4   301  Yes -0.620454 -0.608036 -0.088352  0.111253 -0.598898 -0.513191   \n",
       "\n",
       "         V8        V9    ...          V95       V96       V97       V98  \\\n",
       "0 -1.206475  0.444493    ...    -1.379066  0.420436 -0.827446  0.318695   \n",
       "1 -0.239788  0.421697    ...     0.398840 -0.434789 -0.698862  1.387219   \n",
       "2  0.137790  0.047847    ...    -0.450999 -0.627830  0.677158 -0.140255   \n",
       "3 -1.145078 -1.471261    ...     0.316312  0.131010  0.878134 -0.306249   \n",
       "4  0.753000  1.055418    ...     0.364884  0.251667  0.373787 -0.354599   \n",
       "\n",
       "        V99      V100      V101      V102      V103      V104  \n",
       "0 -0.787409  0.351406 -0.836107  0.015502  0.435444 -0.879906  \n",
       "1  0.948456  0.191397  1.451699 -1.243616 -0.699072  1.751434  \n",
       "2 -0.798641 -0.972419 -0.852035  0.080914 -1.906252  0.705509  \n",
       "3 -1.263270  1.316120 -0.999717  1.104161 -0.234038 -0.083488  \n",
       "4  0.085019  1.207509 -0.762206 -0.067318  0.158247  0.592638  \n",
       "\n",
       "[5 rows x 105 columns]"
      ]
     },
     "execution_count": 5,
     "metadata": {},
     "output_type": "execute_result"
    }
   ],
   "source": [
    "sample_data.head()"
   ]
  },
  {
   "cell_type": "code",
   "execution_count": 6,
   "metadata": {
    "collapsed": false
   },
   "outputs": [],
   "source": [
    "sample_data.V1 = sample_data.V1.eq('Yes').mul(1)"
   ]
  },
  {
   "cell_type": "markdown",
   "metadata": {},
   "source": [
    "The response variable is Y for 2.1-2.3 and Z for 2.4. "
   ]
  },
  {
   "cell_type": "code",
   "execution_count": 7,
   "metadata": {
    "collapsed": false
   },
   "outputs": [],
   "source": [
    "X = np.array(sample_data.iloc[:,range(2,104)])\n",
    "y = np.array(sample_data.iloc[:,0])\n",
    "z = np.array(sample_data.iloc[:,1])"
   ]
  },
  {
   "cell_type": "markdown",
   "metadata": {},
   "source": [
    "__Exercise 2.1__ (10 pts) Perform ridge regression on the method and cross-validate to find the best ridge parameter."
   ]
  },
  {
   "cell_type": "code",
   "execution_count": 163,
   "metadata": {
    "collapsed": false
   },
   "outputs": [
    {
     "data": {
      "image/png": "[encoded data removed]",
      "text/plain": [
       "<matplotlib.figure.Figure at 0x110d03850>"
      ]
     },
     "metadata": {},
     "output_type": "display_data"
    }
   ],
   "source": [
    "### Exercise 2.1\n",
    "import matplotlib.pyplot as plt\n",
    "from sklearn.preprocessing import scale \n",
    "from sklearn import cross_validation\n",
    "from sklearn.linear_model import Ridge,RidgeCV\n",
    "%matplotlib inline\n",
    "plt.style.use('ggplot')\n",
    "\n",
    "alphas=10**np.linspace(10,-2,100)*0.5 # possible lambda for ridge regression\n",
    "coefs=[]\n",
    "ridge=Ridge()\n",
    "for a in alphas:\n",
    "    ridge.set_params(alpha=a)\n",
    "    ridge.fit(scale(X),y)\n",
    "    coefs.append(ridge.coef_)\n",
    "ax = plt.gca()\n",
    "ax.plot(alphas, coefs)\n",
    "ax.set_xscale('log')\n",
    "ax.set_xlim(ax.get_xlim()[::-1])  # reverse axis\n",
    "plt.axis('tight')\n",
    "plt.xlabel('lambda')\n",
    "plt.ylabel('weights')\n",
    "plt.title('Ridge coefficients as a function of the regularization');"
   ]
  },
  {
   "cell_type": "code",
   "execution_count": 167,
   "metadata": {
    "collapsed": false
   },
   "outputs": [
    {
     "data": {
      "text/plain": [
       "0.0050000000000000001"
      ]
     },
     "execution_count": 167,
     "metadata": {},
     "output_type": "execute_result"
    }
   ],
   "source": [
    "#### for cross-validation\n",
    "X_train,X_test,y_train,y_test=cross_validation.train_test_split(X,y,test_size=0.4,random_state=23)\n",
    "ridgecv=RidgeCV(alphas=alphas,cv=10,scoring='neg_mean_squared_error',normalize=True)\n",
    "ridgecv.fit(X_train,y_train)\n",
    "ridgecv.alpha_"
   ]
  },
  {
   "cell_type": "code",
   "execution_count": 168,
   "metadata": {
    "collapsed": false
   },
   "outputs": [
    {
     "data": {
      "text/plain": [
       "384630.74078861455"
      ]
     },
     "execution_count": 168,
     "metadata": {},
     "output_type": "execute_result"
    }
   ],
   "source": [
    "from sklearn.metrics import mean_squared_error\n",
    "ridge1=Ridge(alpha=ridgecv.alpha_,normalize=True)\n",
    "ridge1.fit(X_train,y_train)\n",
    "mean_squared_error(y_test,ridge1.predict(X_test))"
   ]
  },
  {
   "cell_type": "markdown",
   "metadata": {},
   "source": [
    "Ridge regression is performed as above. To cross-validate the ridge regression model, the test size consists of $40\\%$ of the total sample size. The obtained best ridge parameter is found to be $0.005$. For the test dataset, the $MSE$ is $384630.74078861455$."
   ]
  },
  {
   "cell_type": "markdown",
   "metadata": {},
   "source": [
    "__Exercise 2.2__ (10 pts) Plot the lasso and lars path for each of the coefficients.  All coefficients for a given method should be on the same plot, you should get 2 plots.  What are the major differences, if any?  Are there any 'leaving' events in the lasso path?"
   ]
  },
  {
   "cell_type": "code",
   "execution_count": 169,
   "metadata": {
    "collapsed": false
   },
   "outputs": [
    {
     "data": {
      "image/png": "[encoded data removed]",
      "text/plain": [
       "<matplotlib.figure.Figure at 0x115919750>"
      ]
     },
     "metadata": {},
     "output_type": "display_data"
    }
   ],
   "source": [
    "### Exercise 2.2\n",
    "from sklearn.linear_model import LinearRegression, lars_path, Lasso, LassoCV\n",
    "lasso=Lasso(max_iter=10000,normalize=True)\n",
    "alphas=10**np.linspace(10,-2,100)*0.5 # possible lambda for Lasso regression\n",
    "coefs2=[]\n",
    "for a in alphas:\n",
    "    lasso.set_params(alpha=a)\n",
    "    lasso.fit(scale(X),y)\n",
    "    coefs2.append(lasso.coef_)\n",
    "ax = plt.gca()\n",
    "ax.plot(alphas, coefs2)\n",
    "ax.set_xscale('log')\n",
    "ax.set_xlim(ax.get_xlim()[::-1])  # reverse axis\n",
    "plt.axis('tight')\n",
    "plt.xlabel('lambda')\n",
    "plt.ylabel('weights')\n",
    "plt.title('Lasso coefficients as a function of the regularization');"
   ]
  },
  {
   "cell_type": "code",
   "execution_count": 170,
   "metadata": {
    "collapsed": false
   },
   "outputs": [
    {
     "name": "stdout",
     "output_type": "stream",
     "text": [
      "."
     ]
    },
    {
     "data": {
      "image/png": "[encoded data removed]",
      "text/plain": [
       "<matplotlib.figure.Figure at 0x113f50d10>"
      ]
     },
     "metadata": {},
     "output_type": "display_data"
    }
   ],
   "source": [
    "#larper = lars_path(X,y,method=\"lasso\")\n",
    "\n",
    "alphas, _, coefs3 =lars_path(X, y, method='lasso', verbose=True)\n",
    "\n",
    "\n",
    "ax = plt.gca()\n",
    "ax.plot(alphas, coefs3.T)\n",
    "ax.set_xscale('log')\n",
    "ax.set_xlim(ax.get_xlim()[::-1])  # reverse axis\n",
    "plt.axis('tight')\n",
    "plt.xlabel('lambda')\n",
    "plt.ylabel('weights')\n",
    "plt.title('LASSO regularization path using the LARS')\n",
    "plt.show()"
   ]
  },
  {
   "cell_type": "code",
   "execution_count": 188,
   "metadata": {
    "collapsed": false
   },
   "outputs": [
    {
     "data": {
      "image/png": "[encoded data removed]",
      "text/plain": [
       "<matplotlib.figure.Figure at 0x11560a7d0>"
      ]
     },
     "metadata": {},
     "output_type": "display_data"
    }
   ],
   "source": [
    "###### here just to get a better look at the Lasso path\n",
    "from sklearn.linear_model import lasso_path\n",
    "alphas=10**np.linspace(4,-2,100)*0.5 # possible lambda for Lasso regression\n",
    "_,coef_path,_=lasso_path(X,y,alphas=alphas)\n",
    "ax = plt.gca()\n",
    "ax.plot(alphas, coef_path.T)\n",
    "ax.set_xscale('log')\n",
    "ax.set_xlim(ax.get_xlim()[::-1])  # reverse axis\n",
    "plt.axis('tight')\n",
    "plt.xlabel('lambda')\n",
    "plt.ylabel('weights')\n",
    "plt.title('Lasso coefficients as a function of the regularization');"
   ]
  },
  {
   "cell_type": "markdown",
   "metadata": {},
   "source": [
    "From the first two plots of LASSO and LARS path in Ex. 2.2, no obvious difference can be found actually, though the x-scales differ. To get a better comparison between LARS and Lasso path, another plot is generated based on a smaller range of $\\lambda$, as shown in the third plot in Ex.2.2.\n",
    "\n",
    "For the Lasso path, it is difficult to determine from the plot whether any leaving events exist, but it should be noted that the Lasso plot can illustrate the path of each individual parameter in the model and can provide information of leaving events if one looks the results in detail. A detailed check can show that there are leaving events in the Lasso path, i.e., some parameters go from non-zeros to zeros."
   ]
  },
  {
   "cell_type": "markdown",
   "metadata": {},
   "source": [
    "__Exercise 2.3__ (10 pts) Cross-validate the Lasso and compare the results to the answer to 2.1."
   ]
  },
  {
   "cell_type": "code",
   "execution_count": 171,
   "metadata": {
    "collapsed": false
   },
   "outputs": [
    {
     "data": {
      "text/plain": [
       "311284.94354203058"
      ]
     },
     "execution_count": 171,
     "metadata": {},
     "output_type": "execute_result"
    }
   ],
   "source": [
    "lassocv=LassoCV(alphas=None,cv=10,max_iter=10000,normalize=True)\n",
    "lassocv.fit(X_train,y_train)\n",
    "lasso.set_params(alpha=lassocv.alpha_)\n",
    "lasso.fit(X_train,y_train)\n",
    "mean_squared_error(y_test,lasso.predict(X_test))"
   ]
  },
  {
   "cell_type": "markdown",
   "metadata": {},
   "source": [
    "$60\\%$ and $40\\%$ of the original datasets are used for training and testing respectively ( of course,the same datasets are used for Lasso and Ridge regression).Comparing this $MSE$ to the $MSE$ calculated by Ridge regression, the MSE by Lasso regression \n",
    "is much smaller. This indicates that for this problem Lasso regression model outperforms the Ridge regression model and can further improve the prediction results.\n"
   ]
  },
  {
   "cell_type": "markdown",
   "metadata": {},
   "source": [
    "__Exercise 2.4__ (15 pts) Obtain the 'best' active set from 2.3, and create a new design matrix with only these variables.  Use this to predict the categorical variable $z$ with logistic regression. "
   ]
  },
  {
   "cell_type": "code",
   "execution_count": 172,
   "metadata": {
    "collapsed": false
   },
   "outputs": [
    {
     "data": {
      "text/plain": [
       "0     1783.463093\n",
       "1      155.345301\n",
       "2      -74.168677\n",
       "3        2.142500\n",
       "4      192.324236\n",
       "5       24.166374\n",
       "6       -5.797164\n",
       "7       21.416244\n",
       "8       -8.298498\n",
       "9       -6.698633\n",
       "10       6.338612\n",
       "11       2.305155\n",
       "12      10.087665\n",
       "13     -15.938693\n",
       "14      -1.841004\n",
       "15      -5.048517\n",
       "16       0.491974\n",
       "17       3.925214\n",
       "18      -7.743950\n",
       "19      -7.971769\n",
       "20      13.978400\n",
       "21     -40.938003\n",
       "22     -22.596799\n",
       "23     -42.385072\n",
       "24      35.117992\n",
       "25     -40.437760\n",
       "26      24.009218\n",
       "27      21.012320\n",
       "28      -4.532136\n",
       "29       1.851018\n",
       "dtype: float64"
      ]
     },
     "execution_count": 172,
     "metadata": {},
     "output_type": "execute_result"
    }
   ],
   "source": [
    "#### model coefficients\n",
    "index=np.where(abs(lasso.coef_)>0)\n",
    "pd.Series(lasso.coef_[index])"
   ]
  },
  {
   "cell_type": "code",
   "execution_count": 185,
   "metadata": {
    "collapsed": false
   },
   "outputs": [
    {
     "data": {
      "text/plain": [
       "(array([ 0,  2,  6,  7, 14, 15, 19, 22, 23, 24, 32, 33, 40, 42, 44, 45, 47,\n",
       "        49, 58, 61, 67, 68, 70, 80, 81, 84, 85, 88, 89, 96]),)"
      ]
     },
     "execution_count": 185,
     "metadata": {},
     "output_type": "execute_result"
    }
   ],
   "source": [
    "index # so in toal 30 variables are selected by cross-validation in Ex.(2.3)."
   ]
  },
  {
   "cell_type": "code",
   "execution_count": 174,
   "metadata": {
    "collapsed": false
   },
   "outputs": [
    {
     "data": {
      "text/plain": [
       "(750, 30)"
      ]
     },
     "execution_count": 174,
     "metadata": {},
     "output_type": "execute_result"
    }
   ],
   "source": [
    "X2=X[:,index[0]] # the new design matrix\n",
    "np.shape(X2)"
   ]
  },
  {
   "cell_type": "code",
   "execution_count": 175,
   "metadata": {
    "collapsed": false
   },
   "outputs": [
    {
     "data": {
      "text/plain": [
       "LogisticRegression(C=100000.0, class_weight=None, dual=False,\n",
       "          fit_intercept=True, intercept_scaling=1, max_iter=10000,\n",
       "          multi_class='ovr', n_jobs=1, penalty='l2', random_state=None,\n",
       "          solver='liblinear', tol=0.0001, verbose=0, warm_start=False)"
      ]
     },
     "execution_count": 175,
     "metadata": {},
     "output_type": "execute_result"
    }
   ],
   "source": [
    "#from sklearn import linear_model\n",
    "from sklearn.linear_model import LogisticRegression\n",
    "#logreg=linear_model.LogisticRegression(C=1e5)\n",
    "logreg=LogisticRegression(C=1e5,max_iter=10000)\n",
    "logreg.fit(X2,z)"
   ]
  },
  {
   "cell_type": "code",
   "execution_count": 176,
   "metadata": {
    "collapsed": false
   },
   "outputs": [
    {
     "data": {
      "text/plain": [
       "688"
      ]
     },
     "execution_count": 176,
     "metadata": {},
     "output_type": "execute_result"
    }
   ],
   "source": [
    "z_pred=logreg.predict(X2)\n",
    "np.sum(z_pred==z)"
   ]
  },
  {
   "cell_type": "code",
   "execution_count": 177,
   "metadata": {
    "collapsed": false
   },
   "outputs": [],
   "source": [
    "X2_train,X2_test,z2_train,z2_test=cross_validation.train_test_split(X2,z,test_size=0.5,random_state=23)"
   ]
  },
  {
   "cell_type": "code",
   "execution_count": 183,
   "metadata": {
    "collapsed": false
   },
   "outputs": [
    {
     "data": {
      "text/plain": [
       "0.9146666666666666"
      ]
     },
     "execution_count": 183,
     "metadata": {},
     "output_type": "execute_result"
    }
   ],
   "source": [
    "z2_pred1=logreg.predict(X2_test)\n",
    "float(np.sum(z2_pred1==z2_test))/len(z2_test)"
   ]
  },
  {
   "cell_type": "markdown",
   "metadata": {},
   "source": [
    "30 variables are selected in the \"best-active\" model in Ex. 2.3. The prediction results for the test datasets, which is $40\\%$ of the original dataset, are fairly good. The rate of correct prediction in the test datasets is $ 91.467\\%$."
   ]
  },
  {
   "cell_type": "code",
   "execution_count": null,
   "metadata": {
    "collapsed": true
   },
   "outputs": [],
   "source": []
  }
 ],
 "metadata": {
  "anaconda-cloud": {},
  "kernelspec": {
   "display_name": "Python 2",
   "language": "python",
   "name": "python2"
  },
  "language_info": {
   "codemirror_mode": {
    "name": "ipython",
    "version": 2
   },
   "file_extension": ".py",
   "mimetype": "text/x-python",
   "name": "python",
   "nbconvert_exporter": "python",
   "pygments_lexer": "ipython2",
   "version": "2.7.13"
  }
 },
 "nbformat": 4,
 "nbformat_minor": 2
}
